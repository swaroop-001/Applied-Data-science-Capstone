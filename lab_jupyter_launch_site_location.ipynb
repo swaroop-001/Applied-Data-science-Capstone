{
  "metadata": {
    "kernelspec": {
      "name": "python",
      "display_name": "Python (Pyodide)",
      "language": "python"
    },
    "language_info": {
      "codemirror_mode": {
        "name": "python",
        "version": 3
      },
      "file_extension": ".py",
      "mimetype": "text/x-python",
      "name": "python",
      "nbconvert_exporter": "python",
      "pygments_lexer": "ipython3",
      "version": "3.8"
    }
  },
  "nbformat_minor": 4,
  "nbformat": 4,
  "cells": [
    {
      "cell_type": "markdown",
      "source": "<p style=\"text-align:center\">\n    <a href=\"https://skills.network/?utm_medium=Exinfluencer&utm_source=Exinfluencer&utm_content=000026UJ&utm_term=10006555&utm_id=NA-SkillsNetwork-Channel-SkillsNetworkCoursesIBMDS0321ENSkillsNetwork26802033-2022-01-01\" target=\"_blank\">\n    <img src=\"https://cf-courses-data.s3.us.cloud-object-storage.appdomain.cloud/assets/logos/SN_web_lightmode.png\" width=\"200\" alt=\"Skills Network Logo\"  />\n    </a>\n</p>\n",
      "metadata": {}
    },
    {
      "cell_type": "markdown",
      "source": "# **Launch Sites Locations Analysis with Folium**\n",
      "metadata": {}
    },
    {
      "cell_type": "markdown",
      "source": "Estimated time needed: **40** minutes\n",
      "metadata": {}
    },
    {
      "cell_type": "markdown",
      "source": "The launch success rate may depend on many factors such as payload mass, orbit type, and so on. It may also depend on the location and proximities of a launch site, i.e., the initial position of rocket trajectories. Finding an optimal location for building a launch site certainly involves many factors and hopefully we could discover some of the factors by analyzing the existing launch site locations.\n",
      "metadata": {}
    },
    {
      "cell_type": "markdown",
      "source": "In the previous exploratory data analysis labs, you have visualized the SpaceX launch dataset using `matplotlib` and `seaborn` and discovered some preliminary correlations between the launch site and success rates. In this lab, you will be performing more interactive visual analytics using `Folium`.\n",
      "metadata": {}
    },
    {
      "cell_type": "markdown",
      "source": "## Objectives\n",
      "metadata": {}
    },
    {
      "cell_type": "markdown",
      "source": "This lab contains the following tasks:\n\n*   **TASK 1:** Mark all launch sites on a map\n*   **TASK 2:** Mark the success/failed launches for each site on the map\n*   **TASK 3:** Calculate the distances between a launch site to its proximities\n\nAfter completed the above tasks, you should be able to find some geographical patterns about launch sites.\n",
      "metadata": {}
    },
    {
      "cell_type": "markdown",
      "source": "Let's first import required Python packages for this lab:\n",
      "metadata": {}
    },
    {
      "cell_type": "code",
      "source": "import piplite\nawait piplite.install(['folium'])\nawait piplite.install(['pandas'])",
      "metadata": {
        "trusted": true
      },
      "outputs": [],
      "execution_count": 1
    },
    {
      "cell_type": "code",
      "source": "import folium\nimport pandas as pd",
      "metadata": {
        "trusted": true
      },
      "outputs": [],
      "execution_count": 2
    },
    {
      "cell_type": "code",
      "source": "# Import folium MarkerCluster plugin\nfrom folium.plugins import MarkerCluster\n# Import folium MousePosition plugin\nfrom folium.plugins import MousePosition\n# Import folium DivIcon plugin\nfrom folium.features import DivIcon",
      "metadata": {
        "trusted": true
      },
      "outputs": [],
      "execution_count": 3
    },
    {
      "cell_type": "markdown",
      "source": "If you need to refresh your memory about folium, you may download and refer to this previous folium lab:\n",
      "metadata": {}
    },
    {
      "cell_type": "markdown",
      "source": "[Generating Maps with Python](https://cf-courses-data.s3.us.cloud-object-storage.appdomain.cloud/IBM-DS0321EN-SkillsNetwork/labs/module\\_3/DV0101EN-3-5-1-Generating-Maps-in-Python-py-v2.0.ipynb)\n",
      "metadata": {}
    },
    {
      "cell_type": "code",
      "source": "## Task 1: Mark all launch sites on a map\n",
      "metadata": {
        "trusted": true
      },
      "outputs": [],
      "execution_count": 4
    },
    {
      "cell_type": "markdown",
      "source": "First, let's try to add each site's location on a map using site's latitude and longitude coordinates\n",
      "metadata": {}
    },
    {
      "cell_type": "markdown",
      "source": "The following dataset with the name `spacex_launch_geo.csv` is an augmented dataset with latitude and longitude added for each site.\n",
      "metadata": {}
    },
    {
      "cell_type": "code",
      "source": "# Download and read the `spacex_launch_geo.csv`\nfrom js import fetch\nimport io\n\nURL = 'https://cf-courses-data.s3.us.cloud-object-storage.appdomain.cloud/IBM-DS0321EN-SkillsNetwork/datasets/spacex_launch_geo.csv'\nresp = await fetch(URL)\nspacex_csv_file = io.BytesIO((await resp.arrayBuffer()).to_py())\nspacex_df=pd.read_csv(spacex_csv_file)",
      "metadata": {
        "trusted": true
      },
      "outputs": [],
      "execution_count": 6
    },
    {
      "cell_type": "markdown",
      "source": "Now, you can take a look at what are the coordinates for each site.\n",
      "metadata": {}
    },
    {
      "cell_type": "code",
      "source": "# Select relevant sub-columns: `Launch Site`, `Lat(Latitude)`, `Long(Longitude)`, `class`\nspacex_df = spacex_df[['Launch Site', 'Lat', 'Long', 'class']]\nlaunch_sites_df = spacex_df.groupby(['Launch Site'], as_index=False).first()\nlaunch_sites_df = launch_sites_df[['Launch Site', 'Lat', 'Long']]\nlaunch_sites_df",
      "metadata": {
        "trusted": true
      },
      "outputs": [
        {
          "execution_count": 7,
          "output_type": "execute_result",
          "data": {
            "text/plain": "    Launch Site        Lat        Long\n0   CCAFS LC-40  28.562302  -80.577356\n1  CCAFS SLC-40  28.563197  -80.576820\n2    KSC LC-39A  28.573255  -80.646895\n3   VAFB SLC-4E  34.632834 -120.610745",
            "text/html": "<div>\n<style scoped>\n    .dataframe tbody tr th:only-of-type {\n        vertical-align: middle;\n    }\n\n    .dataframe tbody tr th {\n        vertical-align: top;\n    }\n\n    .dataframe thead th {\n        text-align: right;\n    }\n</style>\n<table border=\"1\" class=\"dataframe\">\n  <thead>\n    <tr style=\"text-align: right;\">\n      <th></th>\n      <th>Launch Site</th>\n      <th>Lat</th>\n      <th>Long</th>\n    </tr>\n  </thead>\n  <tbody>\n    <tr>\n      <th>0</th>\n      <td>CCAFS LC-40</td>\n      <td>28.562302</td>\n      <td>-80.577356</td>\n    </tr>\n    <tr>\n      <th>1</th>\n      <td>CCAFS SLC-40</td>\n      <td>28.563197</td>\n      <td>-80.576820</td>\n    </tr>\n    <tr>\n      <th>2</th>\n      <td>KSC LC-39A</td>\n      <td>28.573255</td>\n      <td>-80.646895</td>\n    </tr>\n    <tr>\n      <th>3</th>\n      <td>VAFB SLC-4E</td>\n      <td>34.632834</td>\n      <td>-120.610745</td>\n    </tr>\n  </tbody>\n</table>\n</div>"
          },
          "metadata": {}
        }
      ],
      "execution_count": 7
    },
    {
      "cell_type": "markdown",
      "source": "Above coordinates are just plain numbers that can not give you any intuitive insights about where are those launch sites. If you are very good at geography, you can interpret those numbers directly in your mind. If not, that's fine too. Let's visualize those locations by pinning them on a map.\n",
      "metadata": {}
    },
    {
      "cell_type": "markdown",
      "source": "We first need to create a folium `Map` object, with an initial center location to be NASA Johnson Space Center at Houston, Texas.\n",
      "metadata": {}
    },
    {
      "cell_type": "code",
      "source": "# Start location is NASA Johnson Space Center\nnasa_coordinate = [29.559684888503615, -95.0830971930759]\nsite_map = folium.Map(location=nasa_coordinate, zoom_start=10)",
      "metadata": {
        "trusted": true
      },
      "outputs": [],
      "execution_count": 8
    },
    {
      "cell_type": "markdown",
      "source": "We could use `folium.Circle` to add a highlighted circle area with a text label on a specific coordinate. For example,\n",
      "metadata": {}
    },
    {
      "cell_type": "code",
      "source": "# Create a blue circle at NASA Johnson Space Center's coordinate with a popup label showing its name\ncircle = folium.Circle(nasa_coordinate, radius=1000, color='#d35400', fill=True).add_child(folium.Popup('NASA Johnson Space Center'))\n# Create a blue circle at NASA Johnson Space Center's coordinate with a icon showing its name\nmarker = folium.map.Marker(\n    nasa_coordinate,\n    # Create an icon as a text label\n    icon=DivIcon(\n        icon_size=(20,20),\n        icon_anchor=(0,0),\n        html='<div style=\"font-size: 12; color:#d35400;\"><b>%s</b></div>' % 'NASA JSC',\n        )\n    )\nsite_map.add_child(circle)\nsite_map.add_child(marker)",
      "metadata": {
        "trusted": true
      },
      "outputs": [
        {
          "execution_count": 9,
          "output_type": "execute_result",
          "data": {
            "text/plain": "<folium.folium.Map at 0x5c091c0>",
            "text/html": "<div style=\"width:100%;\"><div style=\"position:relative;width:100%;height:0;padding-bottom:60%;\"><span style=\"color:#565656\">Make this Notebook Trusted to load map: File -> Trust Notebook</span><iframe srcdoc=\"&lt;!DOCTYPE html&gt;\n&lt;html&gt;\n&lt;head&gt;\n    \n    &lt;meta http-equiv=&quot;content-type&quot; content=&quot;text/html; charset=UTF-8&quot; /&gt;\n    \n        &lt;script&gt;\n            L_NO_TOUCH = false;\n            L_DISABLE_3D = false;\n        &lt;/script&gt;\n    \n    &lt;style&gt;html, body {width: 100%;height: 100%;margin: 0;padding: 0;}&lt;/style&gt;\n    &lt;style&gt;#map {position:absolute;top:0;bottom:0;right:0;left:0;}&lt;/style&gt;\n    &lt;script src=&quot;https://cdn.jsdelivr.net/npm/leaflet@1.9.3/dist/leaflet.js&quot;&gt;&lt;/script&gt;\n    &lt;script src=&quot;https://code.jquery.com/jquery-3.7.1.min.js&quot;&gt;&lt;/script&gt;\n    &lt;script src=&quot;https://cdn.jsdelivr.net/npm/bootstrap@5.2.2/dist/js/bootstrap.bundle.min.js&quot;&gt;&lt;/script&gt;\n    &lt;script src=&quot;https://cdnjs.cloudflare.com/ajax/libs/Leaflet.awesome-markers/2.0.2/leaflet.awesome-markers.js&quot;&gt;&lt;/script&gt;\n    &lt;link rel=&quot;stylesheet&quot; href=&quot;https://cdn.jsdelivr.net/npm/leaflet@1.9.3/dist/leaflet.css&quot;/&gt;\n    &lt;link rel=&quot;stylesheet&quot; href=&quot;https://cdn.jsdelivr.net/npm/bootstrap@5.2.2/dist/css/bootstrap.min.css&quot;/&gt;\n    &lt;link rel=&quot;stylesheet&quot; href=&quot;https://netdna.bootstrapcdn.com/bootstrap/3.0.0/css/bootstrap-glyphicons.css&quot;/&gt;\n    &lt;link rel=&quot;stylesheet&quot; href=&quot;https://cdn.jsdelivr.net/npm/@fortawesome/fontawesome-free@6.2.0/css/all.min.css&quot;/&gt;\n    &lt;link rel=&quot;stylesheet&quot; href=&quot;https://cdnjs.cloudflare.com/ajax/libs/Leaflet.awesome-markers/2.0.2/leaflet.awesome-markers.css&quot;/&gt;\n    &lt;link rel=&quot;stylesheet&quot; href=&quot;https://cdn.jsdelivr.net/gh/python-visualization/folium/folium/templates/leaflet.awesome.rotate.min.css&quot;/&gt;\n    \n            &lt;meta name=&quot;viewport&quot; content=&quot;width=device-width,\n                initial-scale=1.0, maximum-scale=1.0, user-scalable=no&quot; /&gt;\n            &lt;style&gt;\n                #map_68a3f9d83f2116221407401c1c8337b5 {\n                    position: relative;\n                    width: 100.0%;\n                    height: 100.0%;\n                    left: 0.0%;\n                    top: 0.0%;\n                }\n                .leaflet-container { font-size: 1rem; }\n            &lt;/style&gt;\n        \n&lt;/head&gt;\n&lt;body&gt;\n    \n    \n            &lt;div class=&quot;folium-map&quot; id=&quot;map_68a3f9d83f2116221407401c1c8337b5&quot; &gt;&lt;/div&gt;\n        \n&lt;/body&gt;\n&lt;script&gt;\n    \n    \n            var map_68a3f9d83f2116221407401c1c8337b5 = L.map(\n                &quot;map_68a3f9d83f2116221407401c1c8337b5&quot;,\n                {\n                    center: [29.559684888503615, -95.0830971930759],\n                    crs: L.CRS.EPSG3857,\n                    zoom: 10,\n                    zoomControl: true,\n                    preferCanvas: false,\n                }\n            );\n\n            \n\n        \n    \n            var tile_layer_f5a4237f7ede5f9ba4b3bff3c2585e55 = L.tileLayer(\n                &quot;https://tile.openstreetmap.org/{z}/{x}/{y}.png&quot;,\n                {&quot;attribution&quot;: &quot;\\u0026copy; \\u003ca href=\\&quot;https://www.openstreetmap.org/copyright\\&quot;\\u003eOpenStreetMap\\u003c/a\\u003e contributors&quot;, &quot;detectRetina&quot;: false, &quot;maxNativeZoom&quot;: 19, &quot;maxZoom&quot;: 19, &quot;minZoom&quot;: 0, &quot;noWrap&quot;: false, &quot;opacity&quot;: 1, &quot;subdomains&quot;: &quot;abc&quot;, &quot;tms&quot;: false}\n            );\n        \n    \n            tile_layer_f5a4237f7ede5f9ba4b3bff3c2585e55.addTo(map_68a3f9d83f2116221407401c1c8337b5);\n        \n    \n            var circle_1770e3d25855341dd0fab754497a7bc0 = L.circle(\n                [29.559684888503615, -95.0830971930759],\n                {&quot;bubblingMouseEvents&quot;: true, &quot;color&quot;: &quot;#d35400&quot;, &quot;dashArray&quot;: null, &quot;dashOffset&quot;: null, &quot;fill&quot;: true, &quot;fillColor&quot;: &quot;#d35400&quot;, &quot;fillOpacity&quot;: 0.2, &quot;fillRule&quot;: &quot;evenodd&quot;, &quot;lineCap&quot;: &quot;round&quot;, &quot;lineJoin&quot;: &quot;round&quot;, &quot;opacity&quot;: 1.0, &quot;radius&quot;: 1000, &quot;stroke&quot;: true, &quot;weight&quot;: 3}\n            ).addTo(map_68a3f9d83f2116221407401c1c8337b5);\n        \n    \n        var popup_95f3b72c1b48b50ea6851cd98277d099 = L.popup({&quot;maxWidth&quot;: &quot;100%&quot;});\n\n        \n            \n                var html_5d3bbc711aed89f828526253ab957243 = $(`&lt;div id=&quot;html_5d3bbc711aed89f828526253ab957243&quot; style=&quot;width: 100.0%; height: 100.0%;&quot;&gt;NASA Johnson Space Center&lt;/div&gt;`)[0];\n                popup_95f3b72c1b48b50ea6851cd98277d099.setContent(html_5d3bbc711aed89f828526253ab957243);\n            \n        \n\n        circle_1770e3d25855341dd0fab754497a7bc0.bindPopup(popup_95f3b72c1b48b50ea6851cd98277d099)\n        ;\n\n        \n    \n    \n            var marker_7217073be9616c2368e66bfc24b0b006 = L.marker(\n                [29.559684888503615, -95.0830971930759],\n                {}\n            ).addTo(map_68a3f9d83f2116221407401c1c8337b5);\n        \n    \n            var div_icon_8d190f06a81a3cb15b8664471a654904 = L.divIcon({&quot;className&quot;: &quot;empty&quot;, &quot;html&quot;: &quot;\\u003cdiv style=\\&quot;font-size: 12; color:#d35400;\\&quot;\\u003e\\u003cb\\u003eNASA JSC\\u003c/b\\u003e\\u003c/div\\u003e&quot;, &quot;iconAnchor&quot;: [0, 0], &quot;iconSize&quot;: [20, 20]});\n            marker_7217073be9616c2368e66bfc24b0b006.setIcon(div_icon_8d190f06a81a3cb15b8664471a654904);\n        \n&lt;/script&gt;\n&lt;/html&gt;\" style=\"position:absolute;width:100%;height:100%;left:0;top:0;border:none !important;\" allowfullscreen webkitallowfullscreen mozallowfullscreen></iframe></div></div>"
          },
          "metadata": {}
        }
      ],
      "execution_count": 9
    },
    {
      "cell_type": "markdown",
      "source": "and you should find a small yellow circle near the city of Houston and you can zoom-in to see a larger circle.\n",
      "metadata": {}
    },
    {
      "cell_type": "markdown",
      "source": "Now, let's add a circle for each launch site in data frame `launch_sites`\n",
      "metadata": {}
    },
    {
      "cell_type": "markdown",
      "source": "*TODO:*  Create and add `folium.Circle` and `folium.Marker` for each launch site on the site map\n",
      "metadata": {}
    },
    {
      "cell_type": "markdown",
      "source": "An example of folium.Circle:\n",
      "metadata": {}
    },
    {
      "cell_type": "markdown",
      "source": "`folium.Circle(coordinate, radius=1000, color='#000000', fill=True).add_child(folium.Popup(...))`\n",
      "metadata": {}
    },
    {
      "cell_type": "markdown",
      "source": "An example of folium.Marker:\n",
      "metadata": {}
    },
    {
      "cell_type": "markdown",
      "source": "`folium.map.Marker(coordinate, icon=DivIcon(icon_size=(20,20),icon_anchor=(0,0), html='<div style=\"font-size: 12; color:#d35400;\"><b>%s</b></div>' % 'label', ))`\n",
      "metadata": {}
    },
    {
      "cell_type": "code",
      "source": "# Initial the map\nsite_map = folium.Map(location=nasa_coordinate, zoom_start=5)\n# For each launch site, add a Circle object based on its coordinate (Lat, Long) values. In addition, add Launch site name as a popup label\n\nfor index, row in launch_sites_df.iterrows():\n    name = row['Launch Site']\n    latitude = row['Lat']\n    longitude = row['Long']\n    coordinate = [latitude, longitude]\n    \n    circle = folium.Circle(coordinate, radius=1000, color='#d35400', fill=True).add_child(folium.Popup(name))\n    marker = folium.map.Marker(\n        coordinate,\n        icon=DivIcon(\n        icon_size=(20,20),\n        icon_anchor=(0,0),\n        html=\"<div style='font-size: 12; color:{};'><b>{}</b></div>\". format('#d35400',name)\n        )\n    )\n    site_map.add_child(circle)\n    site_map.add_child(marker)",
      "metadata": {
        "trusted": true
      },
      "outputs": [],
      "execution_count": 10
    },
    {
      "cell_type": "markdown",
      "source": "The generated map with marked launch sites should look similar to the following:\n",
      "metadata": {}
    },
    {
      "cell_type": "markdown",
      "source": "<center>\n    <img src=\"https://cf-courses-data.s3.us.cloud-object-storage.appdomain.cloud/IBM-DS0321EN-SkillsNetwork/labs/module_3/images/launch_site_markers.png\">\n</center>\n",
      "metadata": {}
    },
    {
      "cell_type": "markdown",
      "source": "Now, you can explore the map by zoom-in/out the marked areas\n, and try to answer the following questions:\n\n*   Are all launch sites in proximity to the Equator line?\n*   Are all launch sites in very close proximity to the coast?\n\nAlso please try to explain your findings.\n",
      "metadata": {}
    },
    {
      "cell_type": "code",
      "source": "# Task 2: Mark the success/failed launches for each site on the map\n",
      "metadata": {},
      "outputs": [],
      "execution_count": null
    },
    {
      "cell_type": "markdown",
      "source": "Next, let's try to enhance the map by adding the launch outcomes for each site, and see which sites have high success rates.\nRecall that data frame spacex_df has detailed launch records, and the `class` column indicates if this launch was successful or not\n",
      "metadata": {}
    },
    {
      "cell_type": "code",
      "source": "spacex_df.tail(10)",
      "metadata": {
        "trusted": true
      },
      "outputs": [
        {
          "execution_count": 11,
          "output_type": "execute_result",
          "data": {
            "text/plain": "     Launch Site        Lat       Long  class\n46    KSC LC-39A  28.573255 -80.646895      1\n47    KSC LC-39A  28.573255 -80.646895      1\n48    KSC LC-39A  28.573255 -80.646895      1\n49  CCAFS SLC-40  28.563197 -80.576820      1\n50  CCAFS SLC-40  28.563197 -80.576820      1\n51  CCAFS SLC-40  28.563197 -80.576820      0\n52  CCAFS SLC-40  28.563197 -80.576820      0\n53  CCAFS SLC-40  28.563197 -80.576820      0\n54  CCAFS SLC-40  28.563197 -80.576820      1\n55  CCAFS SLC-40  28.563197 -80.576820      0",
            "text/html": "<div>\n<style scoped>\n    .dataframe tbody tr th:only-of-type {\n        vertical-align: middle;\n    }\n\n    .dataframe tbody tr th {\n        vertical-align: top;\n    }\n\n    .dataframe thead th {\n        text-align: right;\n    }\n</style>\n<table border=\"1\" class=\"dataframe\">\n  <thead>\n    <tr style=\"text-align: right;\">\n      <th></th>\n      <th>Launch Site</th>\n      <th>Lat</th>\n      <th>Long</th>\n      <th>class</th>\n    </tr>\n  </thead>\n  <tbody>\n    <tr>\n      <th>46</th>\n      <td>KSC LC-39A</td>\n      <td>28.573255</td>\n      <td>-80.646895</td>\n      <td>1</td>\n    </tr>\n    <tr>\n      <th>47</th>\n      <td>KSC LC-39A</td>\n      <td>28.573255</td>\n      <td>-80.646895</td>\n      <td>1</td>\n    </tr>\n    <tr>\n      <th>48</th>\n      <td>KSC LC-39A</td>\n      <td>28.573255</td>\n      <td>-80.646895</td>\n      <td>1</td>\n    </tr>\n    <tr>\n      <th>49</th>\n      <td>CCAFS SLC-40</td>\n      <td>28.563197</td>\n      <td>-80.576820</td>\n      <td>1</td>\n    </tr>\n    <tr>\n      <th>50</th>\n      <td>CCAFS SLC-40</td>\n      <td>28.563197</td>\n      <td>-80.576820</td>\n      <td>1</td>\n    </tr>\n    <tr>\n      <th>51</th>\n      <td>CCAFS SLC-40</td>\n      <td>28.563197</td>\n      <td>-80.576820</td>\n      <td>0</td>\n    </tr>\n    <tr>\n      <th>52</th>\n      <td>CCAFS SLC-40</td>\n      <td>28.563197</td>\n      <td>-80.576820</td>\n      <td>0</td>\n    </tr>\n    <tr>\n      <th>53</th>\n      <td>CCAFS SLC-40</td>\n      <td>28.563197</td>\n      <td>-80.576820</td>\n      <td>0</td>\n    </tr>\n    <tr>\n      <th>54</th>\n      <td>CCAFS SLC-40</td>\n      <td>28.563197</td>\n      <td>-80.576820</td>\n      <td>1</td>\n    </tr>\n    <tr>\n      <th>55</th>\n      <td>CCAFS SLC-40</td>\n      <td>28.563197</td>\n      <td>-80.576820</td>\n      <td>0</td>\n    </tr>\n  </tbody>\n</table>\n</div>"
          },
          "metadata": {}
        }
      ],
      "execution_count": 11
    },
    {
      "cell_type": "markdown",
      "source": "Next, let's create markers for all launch records.\nIf a launch was successful `(class=1)`, then we use a green marker and if a launch was failed, we use a red marker `(class=0)`\n",
      "metadata": {}
    },
    {
      "cell_type": "markdown",
      "source": "Note that a launch only happens in one of the four launch sites, which means many launch records will have the exact same coordinate. Marker clusters can be a good way to simplify a map containing many markers having the same coordinate.\n",
      "metadata": {}
    },
    {
      "cell_type": "markdown",
      "source": "Let's first create a `MarkerCluster` object\n",
      "metadata": {}
    },
    {
      "cell_type": "code",
      "source": "marker_cluster = MarkerCluster()\n",
      "metadata": {
        "trusted": true
      },
      "outputs": [],
      "execution_count": 12
    },
    {
      "cell_type": "markdown",
      "source": "*TODO:* Create a new column in `launch_sites` dataframe called `marker_color` to store the marker colors based on the `class` value\n",
      "metadata": {}
    },
    {
      "cell_type": "code",
      "source": "\n# Apply a function to check the value of `class` column\n# If class=1, marker_color value will be green\n# If class=0, marker_color value will be red\ndef assign_marker_color(launch_outcome):\n    if launch_outcome == 1:\n        return 'green'\n    else:\n        return 'red'\n    \nspacex_df['marker_color'] = spacex_df['class'].apply(assign_marker_color)\nspacex_df.tail(10)",
      "metadata": {
        "trusted": true
      },
      "outputs": [
        {
          "execution_count": 13,
          "output_type": "execute_result",
          "data": {
            "text/plain": "     Launch Site        Lat       Long  class marker_color\n46    KSC LC-39A  28.573255 -80.646895      1        green\n47    KSC LC-39A  28.573255 -80.646895      1        green\n48    KSC LC-39A  28.573255 -80.646895      1        green\n49  CCAFS SLC-40  28.563197 -80.576820      1        green\n50  CCAFS SLC-40  28.563197 -80.576820      1        green\n51  CCAFS SLC-40  28.563197 -80.576820      0          red\n52  CCAFS SLC-40  28.563197 -80.576820      0          red\n53  CCAFS SLC-40  28.563197 -80.576820      0          red\n54  CCAFS SLC-40  28.563197 -80.576820      1        green\n55  CCAFS SLC-40  28.563197 -80.576820      0          red",
            "text/html": "<div>\n<style scoped>\n    .dataframe tbody tr th:only-of-type {\n        vertical-align: middle;\n    }\n\n    .dataframe tbody tr th {\n        vertical-align: top;\n    }\n\n    .dataframe thead th {\n        text-align: right;\n    }\n</style>\n<table border=\"1\" class=\"dataframe\">\n  <thead>\n    <tr style=\"text-align: right;\">\n      <th></th>\n      <th>Launch Site</th>\n      <th>Lat</th>\n      <th>Long</th>\n      <th>class</th>\n      <th>marker_color</th>\n    </tr>\n  </thead>\n  <tbody>\n    <tr>\n      <th>46</th>\n      <td>KSC LC-39A</td>\n      <td>28.573255</td>\n      <td>-80.646895</td>\n      <td>1</td>\n      <td>green</td>\n    </tr>\n    <tr>\n      <th>47</th>\n      <td>KSC LC-39A</td>\n      <td>28.573255</td>\n      <td>-80.646895</td>\n      <td>1</td>\n      <td>green</td>\n    </tr>\n    <tr>\n      <th>48</th>\n      <td>KSC LC-39A</td>\n      <td>28.573255</td>\n      <td>-80.646895</td>\n      <td>1</td>\n      <td>green</td>\n    </tr>\n    <tr>\n      <th>49</th>\n      <td>CCAFS SLC-40</td>\n      <td>28.563197</td>\n      <td>-80.576820</td>\n      <td>1</td>\n      <td>green</td>\n    </tr>\n    <tr>\n      <th>50</th>\n      <td>CCAFS SLC-40</td>\n      <td>28.563197</td>\n      <td>-80.576820</td>\n      <td>1</td>\n      <td>green</td>\n    </tr>\n    <tr>\n      <th>51</th>\n      <td>CCAFS SLC-40</td>\n      <td>28.563197</td>\n      <td>-80.576820</td>\n      <td>0</td>\n      <td>red</td>\n    </tr>\n    <tr>\n      <th>52</th>\n      <td>CCAFS SLC-40</td>\n      <td>28.563197</td>\n      <td>-80.576820</td>\n      <td>0</td>\n      <td>red</td>\n    </tr>\n    <tr>\n      <th>53</th>\n      <td>CCAFS SLC-40</td>\n      <td>28.563197</td>\n      <td>-80.576820</td>\n      <td>0</td>\n      <td>red</td>\n    </tr>\n    <tr>\n      <th>54</th>\n      <td>CCAFS SLC-40</td>\n      <td>28.563197</td>\n      <td>-80.576820</td>\n      <td>1</td>\n      <td>green</td>\n    </tr>\n    <tr>\n      <th>55</th>\n      <td>CCAFS SLC-40</td>\n      <td>28.563197</td>\n      <td>-80.576820</td>\n      <td>0</td>\n      <td>red</td>\n    </tr>\n  </tbody>\n</table>\n</div>"
          },
          "metadata": {}
        }
      ],
      "execution_count": 13
    },
    {
      "cell_type": "markdown",
      "source": "*TODO:* For each launch result in `spacex_df` data frame, add a `folium.Marker` to `marker_cluster`\n",
      "metadata": {}
    },
    {
      "cell_type": "code",
      "source": "# Add marker_cluster to current site_map\nsite_map.add_child(marker_cluster)\n\n# for each row in spacex_df data frame\n# create a Marker object with its coordinate\n# and customize the Marker's icon property to indicate if this launch was successed or failed, \n# e.g., icon=folium.Icon(color='white', icon_color=row['marker_color']\nfor index, record in spacex_df.iterrows():\n    # TODO: Create and add a Marker cluster to the site map\n    # marker = folium.Marker(...)\n     name = record['Launch Site']\n    latitude = record['Lat']\n    longitude = record['Long']\n    coordinate = [latitude, longitude]\n    color = record['marker_color']\n    \n    marker = folium.map.Marker(\n        location=coordinate,\n        popup=name,\n        icon=folium.Icon(color='white', icon_color=color)\n        )\n    marker_cluster.add_child(marker)\n\nsite_map",
      "metadata": {
        "trusted": true
      },
      "outputs": [],
      "execution_count": null
    },
    {
      "cell_type": "markdown",
      "source": "Your updated map may look like the following screenshots:\n",
      "metadata": {}
    },
    {
      "cell_type": "markdown",
      "source": "<center>\n    <img src=\"https://cf-courses-data.s3.us.cloud-object-storage.appdomain.cloud/IBM-DS0321EN-SkillsNetwork/labs/module_3/images/launch_site_marker_cluster.png\">\n</center>\n",
      "metadata": {}
    },
    {
      "cell_type": "markdown",
      "source": "<center>\n    <img src=\"https://cf-courses-data.s3.us.cloud-object-storage.appdomain.cloud/IBM-DS0321EN-SkillsNetwork/labs/module_3/images/launch_site_marker_cluster_zoomed.png\">\n</center>\n",
      "metadata": {}
    },
    {
      "cell_type": "markdown",
      "source": "From the color-labeled markers in marker clusters, you should be able to easily identify which launch sites have relatively high success rates.\n",
      "metadata": {}
    },
    {
      "cell_type": "code",
      "source": "# TASK 3: Calculate the distances between a launch site to its proximities\n",
      "metadata": {},
      "outputs": [],
      "execution_count": null
    },
    {
      "cell_type": "markdown",
      "source": "Next, we need to explore and analyze the proximities of launch sites.\n",
      "metadata": {}
    },
    {
      "cell_type": "markdown",
      "source": "Let's first add a `MousePosition` on the map to get coordinate for a mouse over a point on the map. As such, while you are exploring the map, you can easily find the coordinates of any points of interests (such as railway)\n",
      "metadata": {}
    },
    {
      "cell_type": "code",
      "source": "# Add Mouse Position to get the coordinate (Lat, Long) for a mouse over on the map\nformatter = \"function(num) {return L.Util.formatNum(num, 5);};\"\nmouse_position = MousePosition(\n    position='topright',\n    separator=' Long: ',\n    empty_string='NaN',\n    lng_first=False,\n    num_digits=20,\n    prefix='Lat:',\n    lat_formatter=formatter,\n    lng_formatter=formatter,\n)\n\nsite_map.add_child(mouse_position)\nsite_map",
      "metadata": {
        "trusted": true
      },
      "outputs": [
        {
          "execution_count": 14,
          "output_type": "execute_result",
          "data": {
            "text/plain": "<folium.folium.Map at 0x1396f70>",
            "text/html": "<div style=\"width:100%;\"><div style=\"position:relative;width:100%;height:0;padding-bottom:60%;\"><span style=\"color:#565656\">Make this Notebook Trusted to load map: File -> Trust Notebook</span><iframe srcdoc=\"&lt;!DOCTYPE html&gt;\n&lt;html&gt;\n&lt;head&gt;\n    \n    &lt;meta http-equiv=&quot;content-type&quot; content=&quot;text/html; charset=UTF-8&quot; /&gt;\n    \n        &lt;script&gt;\n            L_NO_TOUCH = false;\n            L_DISABLE_3D = false;\n        &lt;/script&gt;\n    \n    &lt;style&gt;html, body {width: 100%;height: 100%;margin: 0;padding: 0;}&lt;/style&gt;\n    &lt;style&gt;#map {position:absolute;top:0;bottom:0;right:0;left:0;}&lt;/style&gt;\n    &lt;script src=&quot;https://cdn.jsdelivr.net/npm/leaflet@1.9.3/dist/leaflet.js&quot;&gt;&lt;/script&gt;\n    &lt;script src=&quot;https://code.jquery.com/jquery-3.7.1.min.js&quot;&gt;&lt;/script&gt;\n    &lt;script src=&quot;https://cdn.jsdelivr.net/npm/bootstrap@5.2.2/dist/js/bootstrap.bundle.min.js&quot;&gt;&lt;/script&gt;\n    &lt;script src=&quot;https://cdnjs.cloudflare.com/ajax/libs/Leaflet.awesome-markers/2.0.2/leaflet.awesome-markers.js&quot;&gt;&lt;/script&gt;\n    &lt;link rel=&quot;stylesheet&quot; href=&quot;https://cdn.jsdelivr.net/npm/leaflet@1.9.3/dist/leaflet.css&quot;/&gt;\n    &lt;link rel=&quot;stylesheet&quot; href=&quot;https://cdn.jsdelivr.net/npm/bootstrap@5.2.2/dist/css/bootstrap.min.css&quot;/&gt;\n    &lt;link rel=&quot;stylesheet&quot; href=&quot;https://netdna.bootstrapcdn.com/bootstrap/3.0.0/css/bootstrap-glyphicons.css&quot;/&gt;\n    &lt;link rel=&quot;stylesheet&quot; href=&quot;https://cdn.jsdelivr.net/npm/@fortawesome/fontawesome-free@6.2.0/css/all.min.css&quot;/&gt;\n    &lt;link rel=&quot;stylesheet&quot; href=&quot;https://cdnjs.cloudflare.com/ajax/libs/Leaflet.awesome-markers/2.0.2/leaflet.awesome-markers.css&quot;/&gt;\n    &lt;link rel=&quot;stylesheet&quot; href=&quot;https://cdn.jsdelivr.net/gh/python-visualization/folium/folium/templates/leaflet.awesome.rotate.min.css&quot;/&gt;\n    \n            &lt;meta name=&quot;viewport&quot; content=&quot;width=device-width,\n                initial-scale=1.0, maximum-scale=1.0, user-scalable=no&quot; /&gt;\n            &lt;style&gt;\n                #map_2c1582dde9de800f605394ce507a3bb8 {\n                    position: relative;\n                    width: 100.0%;\n                    height: 100.0%;\n                    left: 0.0%;\n                    top: 0.0%;\n                }\n                .leaflet-container { font-size: 1rem; }\n            &lt;/style&gt;\n        \n    &lt;script src=&quot;https://cdn.jsdelivr.net/gh/ardhi/Leaflet.MousePosition/src/L.Control.MousePosition.min.js&quot;&gt;&lt;/script&gt;\n    &lt;link rel=&quot;stylesheet&quot; href=&quot;https://cdn.jsdelivr.net/gh/ardhi/Leaflet.MousePosition/src/L.Control.MousePosition.min.css&quot;/&gt;\n&lt;/head&gt;\n&lt;body&gt;\n    \n    \n            &lt;div class=&quot;folium-map&quot; id=&quot;map_2c1582dde9de800f605394ce507a3bb8&quot; &gt;&lt;/div&gt;\n        \n&lt;/body&gt;\n&lt;script&gt;\n    \n    \n            var map_2c1582dde9de800f605394ce507a3bb8 = L.map(\n                &quot;map_2c1582dde9de800f605394ce507a3bb8&quot;,\n                {\n                    center: [29.559684888503615, -95.0830971930759],\n                    crs: L.CRS.EPSG3857,\n                    zoom: 5,\n                    zoomControl: true,\n                    preferCanvas: false,\n                }\n            );\n\n            \n\n        \n    \n            var tile_layer_f6d9caec9e07e81e9c604c253fc11569 = L.tileLayer(\n                &quot;https://tile.openstreetmap.org/{z}/{x}/{y}.png&quot;,\n                {&quot;attribution&quot;: &quot;\\u0026copy; \\u003ca href=\\&quot;https://www.openstreetmap.org/copyright\\&quot;\\u003eOpenStreetMap\\u003c/a\\u003e contributors&quot;, &quot;detectRetina&quot;: false, &quot;maxNativeZoom&quot;: 19, &quot;maxZoom&quot;: 19, &quot;minZoom&quot;: 0, &quot;noWrap&quot;: false, &quot;opacity&quot;: 1, &quot;subdomains&quot;: &quot;abc&quot;, &quot;tms&quot;: false}\n            );\n        \n    \n            tile_layer_f6d9caec9e07e81e9c604c253fc11569.addTo(map_2c1582dde9de800f605394ce507a3bb8);\n        \n    \n            var circle_ee1cf940e3cbbf1648deba5840c0de37 = L.circle(\n                [28.56230197, -80.57735648],\n                {&quot;bubblingMouseEvents&quot;: true, &quot;color&quot;: &quot;#d35400&quot;, &quot;dashArray&quot;: null, &quot;dashOffset&quot;: null, &quot;fill&quot;: true, &quot;fillColor&quot;: &quot;#d35400&quot;, &quot;fillOpacity&quot;: 0.2, &quot;fillRule&quot;: &quot;evenodd&quot;, &quot;lineCap&quot;: &quot;round&quot;, &quot;lineJoin&quot;: &quot;round&quot;, &quot;opacity&quot;: 1.0, &quot;radius&quot;: 1000, &quot;stroke&quot;: true, &quot;weight&quot;: 3}\n            ).addTo(map_2c1582dde9de800f605394ce507a3bb8);\n        \n    \n        var popup_ff0a09c31780da534a9ff982a8b2ee26 = L.popup({&quot;maxWidth&quot;: &quot;100%&quot;});\n\n        \n            \n                var html_70c4d504b34f5b49395bf619fdead3d9 = $(`&lt;div id=&quot;html_70c4d504b34f5b49395bf619fdead3d9&quot; style=&quot;width: 100.0%; height: 100.0%;&quot;&gt;CCAFS LC-40&lt;/div&gt;`)[0];\n                popup_ff0a09c31780da534a9ff982a8b2ee26.setContent(html_70c4d504b34f5b49395bf619fdead3d9);\n            \n        \n\n        circle_ee1cf940e3cbbf1648deba5840c0de37.bindPopup(popup_ff0a09c31780da534a9ff982a8b2ee26)\n        ;\n\n        \n    \n    \n            var marker_5d439589ab7ab05423c69695158c853d = L.marker(\n                [28.56230197, -80.57735648],\n                {}\n            ).addTo(map_2c1582dde9de800f605394ce507a3bb8);\n        \n    \n            var div_icon_a5a9118c33466194e1f51f1a15d09f30 = L.divIcon({&quot;className&quot;: &quot;empty&quot;, &quot;html&quot;: &quot;\\u003cdiv style=\\u0027font-size: 12; color:#d35400;\\u0027\\u003e\\u003cb\\u003eCCAFS LC-40\\u003c/b\\u003e\\u003c/div\\u003e&quot;, &quot;iconAnchor&quot;: [0, 0], &quot;iconSize&quot;: [20, 20]});\n            marker_5d439589ab7ab05423c69695158c853d.setIcon(div_icon_a5a9118c33466194e1f51f1a15d09f30);\n        \n    \n            var circle_5439ab32e6a3b5ff1b06518d9c30e580 = L.circle(\n                [28.56319718, -80.57682003],\n                {&quot;bubblingMouseEvents&quot;: true, &quot;color&quot;: &quot;#d35400&quot;, &quot;dashArray&quot;: null, &quot;dashOffset&quot;: null, &quot;fill&quot;: true, &quot;fillColor&quot;: &quot;#d35400&quot;, &quot;fillOpacity&quot;: 0.2, &quot;fillRule&quot;: &quot;evenodd&quot;, &quot;lineCap&quot;: &quot;round&quot;, &quot;lineJoin&quot;: &quot;round&quot;, &quot;opacity&quot;: 1.0, &quot;radius&quot;: 1000, &quot;stroke&quot;: true, &quot;weight&quot;: 3}\n            ).addTo(map_2c1582dde9de800f605394ce507a3bb8);\n        \n    \n        var popup_f83ce4a884ea375f176eef216d7cf35b = L.popup({&quot;maxWidth&quot;: &quot;100%&quot;});\n\n        \n            \n                var html_4e1d90177c2e13f8bc22c024805cfc33 = $(`&lt;div id=&quot;html_4e1d90177c2e13f8bc22c024805cfc33&quot; style=&quot;width: 100.0%; height: 100.0%;&quot;&gt;CCAFS SLC-40&lt;/div&gt;`)[0];\n                popup_f83ce4a884ea375f176eef216d7cf35b.setContent(html_4e1d90177c2e13f8bc22c024805cfc33);\n            \n        \n\n        circle_5439ab32e6a3b5ff1b06518d9c30e580.bindPopup(popup_f83ce4a884ea375f176eef216d7cf35b)\n        ;\n\n        \n    \n    \n            var marker_6fb269ba63301d53c582e69b213e51bc = L.marker(\n                [28.56319718, -80.57682003],\n                {}\n            ).addTo(map_2c1582dde9de800f605394ce507a3bb8);\n        \n    \n            var div_icon_65840fa000b22081447c8c6e00dd7e11 = L.divIcon({&quot;className&quot;: &quot;empty&quot;, &quot;html&quot;: &quot;\\u003cdiv style=\\u0027font-size: 12; color:#d35400;\\u0027\\u003e\\u003cb\\u003eCCAFS SLC-40\\u003c/b\\u003e\\u003c/div\\u003e&quot;, &quot;iconAnchor&quot;: [0, 0], &quot;iconSize&quot;: [20, 20]});\n            marker_6fb269ba63301d53c582e69b213e51bc.setIcon(div_icon_65840fa000b22081447c8c6e00dd7e11);\n        \n    \n            var circle_df612da0010d7adc1bdb7416d4f71524 = L.circle(\n                [28.57325457, -80.64689529],\n                {&quot;bubblingMouseEvents&quot;: true, &quot;color&quot;: &quot;#d35400&quot;, &quot;dashArray&quot;: null, &quot;dashOffset&quot;: null, &quot;fill&quot;: true, &quot;fillColor&quot;: &quot;#d35400&quot;, &quot;fillOpacity&quot;: 0.2, &quot;fillRule&quot;: &quot;evenodd&quot;, &quot;lineCap&quot;: &quot;round&quot;, &quot;lineJoin&quot;: &quot;round&quot;, &quot;opacity&quot;: 1.0, &quot;radius&quot;: 1000, &quot;stroke&quot;: true, &quot;weight&quot;: 3}\n            ).addTo(map_2c1582dde9de800f605394ce507a3bb8);\n        \n    \n        var popup_85d3503d35c3278f5a59654ff80d19ca = L.popup({&quot;maxWidth&quot;: &quot;100%&quot;});\n\n        \n            \n                var html_9348f7438d15b5294c39605da0811876 = $(`&lt;div id=&quot;html_9348f7438d15b5294c39605da0811876&quot; style=&quot;width: 100.0%; height: 100.0%;&quot;&gt;KSC LC-39A&lt;/div&gt;`)[0];\n                popup_85d3503d35c3278f5a59654ff80d19ca.setContent(html_9348f7438d15b5294c39605da0811876);\n            \n        \n\n        circle_df612da0010d7adc1bdb7416d4f71524.bindPopup(popup_85d3503d35c3278f5a59654ff80d19ca)\n        ;\n\n        \n    \n    \n            var marker_140e4343b5a6d86b4bb60a22fd254a6f = L.marker(\n                [28.57325457, -80.64689529],\n                {}\n            ).addTo(map_2c1582dde9de800f605394ce507a3bb8);\n        \n    \n            var div_icon_46c7d97aba30ca3610d62067da466e56 = L.divIcon({&quot;className&quot;: &quot;empty&quot;, &quot;html&quot;: &quot;\\u003cdiv style=\\u0027font-size: 12; color:#d35400;\\u0027\\u003e\\u003cb\\u003eKSC LC-39A\\u003c/b\\u003e\\u003c/div\\u003e&quot;, &quot;iconAnchor&quot;: [0, 0], &quot;iconSize&quot;: [20, 20]});\n            marker_140e4343b5a6d86b4bb60a22fd254a6f.setIcon(div_icon_46c7d97aba30ca3610d62067da466e56);\n        \n    \n            var circle_20cd99839c32560585ad93a94588c37f = L.circle(\n                [34.63283416, -120.6107455],\n                {&quot;bubblingMouseEvents&quot;: true, &quot;color&quot;: &quot;#d35400&quot;, &quot;dashArray&quot;: null, &quot;dashOffset&quot;: null, &quot;fill&quot;: true, &quot;fillColor&quot;: &quot;#d35400&quot;, &quot;fillOpacity&quot;: 0.2, &quot;fillRule&quot;: &quot;evenodd&quot;, &quot;lineCap&quot;: &quot;round&quot;, &quot;lineJoin&quot;: &quot;round&quot;, &quot;opacity&quot;: 1.0, &quot;radius&quot;: 1000, &quot;stroke&quot;: true, &quot;weight&quot;: 3}\n            ).addTo(map_2c1582dde9de800f605394ce507a3bb8);\n        \n    \n        var popup_4d2b9efd2a0bf62a4f7b5d826888332d = L.popup({&quot;maxWidth&quot;: &quot;100%&quot;});\n\n        \n            \n                var html_8f9ea0065e5f18febe2cb7f4bf1565b1 = $(`&lt;div id=&quot;html_8f9ea0065e5f18febe2cb7f4bf1565b1&quot; style=&quot;width: 100.0%; height: 100.0%;&quot;&gt;VAFB SLC-4E&lt;/div&gt;`)[0];\n                popup_4d2b9efd2a0bf62a4f7b5d826888332d.setContent(html_8f9ea0065e5f18febe2cb7f4bf1565b1);\n            \n        \n\n        circle_20cd99839c32560585ad93a94588c37f.bindPopup(popup_4d2b9efd2a0bf62a4f7b5d826888332d)\n        ;\n\n        \n    \n    \n            var marker_340bd842c46746bf351a53fb91619bf6 = L.marker(\n                [34.63283416, -120.6107455],\n                {}\n            ).addTo(map_2c1582dde9de800f605394ce507a3bb8);\n        \n    \n            var div_icon_855902e57366879ec1086d3b0fc87aff = L.divIcon({&quot;className&quot;: &quot;empty&quot;, &quot;html&quot;: &quot;\\u003cdiv style=\\u0027font-size: 12; color:#d35400;\\u0027\\u003e\\u003cb\\u003eVAFB SLC-4E\\u003c/b\\u003e\\u003c/div\\u003e&quot;, &quot;iconAnchor&quot;: [0, 0], &quot;iconSize&quot;: [20, 20]});\n            marker_340bd842c46746bf351a53fb91619bf6.setIcon(div_icon_855902e57366879ec1086d3b0fc87aff);\n        \n    \n            var mouse_position_9a640132a2e60b28d5b673365621df32 = new L.Control.MousePosition(\n                {&quot;emptyString&quot;: &quot;NaN&quot;, &quot;lngFirst&quot;: false, &quot;numDigits&quot;: 20, &quot;position&quot;: &quot;topright&quot;, &quot;prefix&quot;: &quot;Lat:&quot;, &quot;separator&quot;: &quot; Long: &quot;}\n            );\n            mouse_position_9a640132a2e60b28d5b673365621df32.options[&quot;latFormatter&quot;] =\n                function(num) {return L.Util.formatNum(num, 5);};;\n            mouse_position_9a640132a2e60b28d5b673365621df32.options[&quot;lngFormatter&quot;] =\n                function(num) {return L.Util.formatNum(num, 5);};;\n            map_2c1582dde9de800f605394ce507a3bb8.addControl(mouse_position_9a640132a2e60b28d5b673365621df32);\n        \n&lt;/script&gt;\n&lt;/html&gt;\" style=\"position:absolute;width:100%;height:100%;left:0;top:0;border:none !important;\" allowfullscreen webkitallowfullscreen mozallowfullscreen></iframe></div></div>"
          },
          "metadata": {}
        }
      ],
      "execution_count": 16
    },
    {
      "cell_type": "markdown",
      "source": "Now zoom in to a launch site and explore its proximity to see if you can easily find any railway, highway, coastline, etc. Move your mouse to these points and mark down their coordinates (shown on the top-left) in order to the distance to the launch site.\n",
      "metadata": {}
    },
    {
      "cell_type": "markdown",
      "source": "Now zoom in to a launch site and explore its proximity to see if you can easily find any railway, highway, coastline, etc. Move your mouse to these points and mark down their coordinates (shown on the top-left) in order to the distance to the launch site.\n",
      "metadata": {}
    },
    {
      "cell_type": "code",
      "source": "from math import sin, cos, sqrt, atan2, radians\n\ndef calculate_distance(lat1, lon1, lat2, lon2):\n    # approximate radius of earth in km\n    R = 6373.0\n\n    lat1 = radians(lat1)\n    lon1 = radians(lon1)\n    lat2 = radians(lat2)\n    lon2 = radians(lon2)\n\n    dlon = lon2 - lon1\n    dlat = lat2 - lat1\n\n    a = sin(dlat / 2)**2 + cos(lat1) * cos(lat2) * sin(dlon / 2)**2\n    c = 2 * atan2(sqrt(a), sqrt(1 - a))\n\n    distance = R * c\n    return distance",
      "metadata": {
        "trusted": true
      },
      "outputs": [],
      "execution_count": 18
    },
    {
      "cell_type": "markdown",
      "source": "*TODO:* Mark down a point on the closest coastline using MousePosition and calculate the distance between the coastline point and the launch site.\n",
      "metadata": {}
    },
    {
      "cell_type": "code",
      "source": "spacex_df[spacex_df['Launch Site'] == 'VAFB SLC-4E']",
      "metadata": {
        "trusted": true
      },
      "outputs": [
        {
          "execution_count": 17,
          "output_type": "execute_result",
          "data": {
            "text/plain": "    Launch Site        Lat        Long  class marker_color\n26  VAFB SLC-4E  34.632834 -120.610745      0          red\n27  VAFB SLC-4E  34.632834 -120.610745      0          red\n28  VAFB SLC-4E  34.632834 -120.610745      1        green\n29  VAFB SLC-4E  34.632834 -120.610745      1        green\n30  VAFB SLC-4E  34.632834 -120.610745      1        green\n31  VAFB SLC-4E  34.632834 -120.610745      1        green\n32  VAFB SLC-4E  34.632834 -120.610745      0          red\n33  VAFB SLC-4E  34.632834 -120.610745      0          red\n34  VAFB SLC-4E  34.632834 -120.610745      0          red\n35  VAFB SLC-4E  34.632834 -120.610745      0          red",
            "text/html": "<div>\n<style scoped>\n    .dataframe tbody tr th:only-of-type {\n        vertical-align: middle;\n    }\n\n    .dataframe tbody tr th {\n        vertical-align: top;\n    }\n\n    .dataframe thead th {\n        text-align: right;\n    }\n</style>\n<table border=\"1\" class=\"dataframe\">\n  <thead>\n    <tr style=\"text-align: right;\">\n      <th></th>\n      <th>Launch Site</th>\n      <th>Lat</th>\n      <th>Long</th>\n      <th>class</th>\n      <th>marker_color</th>\n    </tr>\n  </thead>\n  <tbody>\n    <tr>\n      <th>26</th>\n      <td>VAFB SLC-4E</td>\n      <td>34.632834</td>\n      <td>-120.610745</td>\n      <td>0</td>\n      <td>red</td>\n    </tr>\n    <tr>\n      <th>27</th>\n      <td>VAFB SLC-4E</td>\n      <td>34.632834</td>\n      <td>-120.610745</td>\n      <td>0</td>\n      <td>red</td>\n    </tr>\n    <tr>\n      <th>28</th>\n      <td>VAFB SLC-4E</td>\n      <td>34.632834</td>\n      <td>-120.610745</td>\n      <td>1</td>\n      <td>green</td>\n    </tr>\n    <tr>\n      <th>29</th>\n      <td>VAFB SLC-4E</td>\n      <td>34.632834</td>\n      <td>-120.610745</td>\n      <td>1</td>\n      <td>green</td>\n    </tr>\n    <tr>\n      <th>30</th>\n      <td>VAFB SLC-4E</td>\n      <td>34.632834</td>\n      <td>-120.610745</td>\n      <td>1</td>\n      <td>green</td>\n    </tr>\n    <tr>\n      <th>31</th>\n      <td>VAFB SLC-4E</td>\n      <td>34.632834</td>\n      <td>-120.610745</td>\n      <td>1</td>\n      <td>green</td>\n    </tr>\n    <tr>\n      <th>32</th>\n      <td>VAFB SLC-4E</td>\n      <td>34.632834</td>\n      <td>-120.610745</td>\n      <td>0</td>\n      <td>red</td>\n    </tr>\n    <tr>\n      <th>33</th>\n      <td>VAFB SLC-4E</td>\n      <td>34.632834</td>\n      <td>-120.610745</td>\n      <td>0</td>\n      <td>red</td>\n    </tr>\n    <tr>\n      <th>34</th>\n      <td>VAFB SLC-4E</td>\n      <td>34.632834</td>\n      <td>-120.610745</td>\n      <td>0</td>\n      <td>red</td>\n    </tr>\n    <tr>\n      <th>35</th>\n      <td>VAFB SLC-4E</td>\n      <td>34.632834</td>\n      <td>-120.610745</td>\n      <td>0</td>\n      <td>red</td>\n    </tr>\n  </tbody>\n</table>\n</div>"
          },
          "metadata": {}
        }
      ],
      "execution_count": 19
    },
    {
      "cell_type": "code",
      "source": "# find coordinate of the closet coastline\n# e.g.,: Lat: 28.56367  Lon: -80.57163\n# distance_coastline = calculate_distance(launch_site_lat, launch_site_lon, coastline_lat, coastline_lon)",
      "metadata": {},
      "outputs": [],
      "execution_count": null
    },
    {
      "cell_type": "code",
      "source": "launch_site_lat = 34.632834\nlaunch_site_lon = -120.610746\ncoastline_lat = 34.63543\ncoastline_lon = -120.62508\n\ndistance_coastline = calculate_distance(launch_site_lat, launch_site_lon, coastline_lat, coastline_lon)",
      "metadata": {
        "trusted": true
      },
      "outputs": [],
      "execution_count": 26
    },
    {
      "cell_type": "code",
      "source": "# Create and add a folium.Marker on your selected closest coastline point on the map\n# Display the distance between coastline point and launch site using the icon property \n# for example\n# distance_marker = folium.Marker(\n#    coordinate,\n#    icon=DivIcon(\n#        icon_size=(20,20),\n#        icon_anchor=(0,0),\n#        html='<div style=\"font-size: 12; color:#d35400;\"><b>%s</b></div>' % \"{:10.2f} KM\".format(distance),\n#        )\n#    )",
      "metadata": {},
      "outputs": [],
      "execution_count": null
    },
    {
      "cell_type": "code",
      "source": "coordinate = [34.63543, -120.62508]\n\ndistance_marker = folium.map.Marker(\n        location = coordinate,\n        icon=DivIcon(\n        icon_size=(20,20),\n        icon_anchor=(0,0),\n        html='<div style=\"font-size: 12; color:#d35400;\"><b>%s</b></div>' % \"{:10.2f} KM\".format(distance_coastline),\n        )\n    )\n\nsite_map.add_child(distance_marker)",
      "metadata": {
        "trusted": true
      },
      "outputs": [
        {
          "execution_count": 23,
          "output_type": "execute_result",
          "data": {
            "text/plain": "<folium.folium.Map at 0x1396f70>",
            "text/html": "<div style=\"width:100%;\"><div style=\"position:relative;width:100%;height:0;padding-bottom:60%;\"><span style=\"color:#565656\">Make this Notebook Trusted to load map: File -> Trust Notebook</span><iframe srcdoc=\"&lt;!DOCTYPE html&gt;\n&lt;html&gt;\n&lt;head&gt;\n    \n    &lt;meta http-equiv=&quot;content-type&quot; content=&quot;text/html; charset=UTF-8&quot; /&gt;\n    \n        &lt;script&gt;\n            L_NO_TOUCH = false;\n            L_DISABLE_3D = false;\n        &lt;/script&gt;\n    \n    &lt;style&gt;html, body {width: 100%;height: 100%;margin: 0;padding: 0;}&lt;/style&gt;\n    &lt;style&gt;#map {position:absolute;top:0;bottom:0;right:0;left:0;}&lt;/style&gt;\n    &lt;script src=&quot;https://cdn.jsdelivr.net/npm/leaflet@1.9.3/dist/leaflet.js&quot;&gt;&lt;/script&gt;\n    &lt;script src=&quot;https://code.jquery.com/jquery-3.7.1.min.js&quot;&gt;&lt;/script&gt;\n    &lt;script src=&quot;https://cdn.jsdelivr.net/npm/bootstrap@5.2.2/dist/js/bootstrap.bundle.min.js&quot;&gt;&lt;/script&gt;\n    &lt;script src=&quot;https://cdnjs.cloudflare.com/ajax/libs/Leaflet.awesome-markers/2.0.2/leaflet.awesome-markers.js&quot;&gt;&lt;/script&gt;\n    &lt;link rel=&quot;stylesheet&quot; href=&quot;https://cdn.jsdelivr.net/npm/leaflet@1.9.3/dist/leaflet.css&quot;/&gt;\n    &lt;link rel=&quot;stylesheet&quot; href=&quot;https://cdn.jsdelivr.net/npm/bootstrap@5.2.2/dist/css/bootstrap.min.css&quot;/&gt;\n    &lt;link rel=&quot;stylesheet&quot; href=&quot;https://netdna.bootstrapcdn.com/bootstrap/3.0.0/css/bootstrap-glyphicons.css&quot;/&gt;\n    &lt;link rel=&quot;stylesheet&quot; href=&quot;https://cdn.jsdelivr.net/npm/@fortawesome/fontawesome-free@6.2.0/css/all.min.css&quot;/&gt;\n    &lt;link rel=&quot;stylesheet&quot; href=&quot;https://cdnjs.cloudflare.com/ajax/libs/Leaflet.awesome-markers/2.0.2/leaflet.awesome-markers.css&quot;/&gt;\n    &lt;link rel=&quot;stylesheet&quot; href=&quot;https://cdn.jsdelivr.net/gh/python-visualization/folium/folium/templates/leaflet.awesome.rotate.min.css&quot;/&gt;\n    \n            &lt;meta name=&quot;viewport&quot; content=&quot;width=device-width,\n                initial-scale=1.0, maximum-scale=1.0, user-scalable=no&quot; /&gt;\n            &lt;style&gt;\n                #map_2c1582dde9de800f605394ce507a3bb8 {\n                    position: relative;\n                    width: 100.0%;\n                    height: 100.0%;\n                    left: 0.0%;\n                    top: 0.0%;\n                }\n                .leaflet-container { font-size: 1rem; }\n            &lt;/style&gt;\n        \n    &lt;script src=&quot;https://cdn.jsdelivr.net/gh/ardhi/Leaflet.MousePosition/src/L.Control.MousePosition.min.js&quot;&gt;&lt;/script&gt;\n    &lt;link rel=&quot;stylesheet&quot; href=&quot;https://cdn.jsdelivr.net/gh/ardhi/Leaflet.MousePosition/src/L.Control.MousePosition.min.css&quot;/&gt;\n&lt;/head&gt;\n&lt;body&gt;\n    \n    \n            &lt;div class=&quot;folium-map&quot; id=&quot;map_2c1582dde9de800f605394ce507a3bb8&quot; &gt;&lt;/div&gt;\n        \n&lt;/body&gt;\n&lt;script&gt;\n    \n    \n            var map_2c1582dde9de800f605394ce507a3bb8 = L.map(\n                &quot;map_2c1582dde9de800f605394ce507a3bb8&quot;,\n                {\n                    center: [29.559684888503615, -95.0830971930759],\n                    crs: L.CRS.EPSG3857,\n                    zoom: 5,\n                    zoomControl: true,\n                    preferCanvas: false,\n                }\n            );\n\n            \n\n        \n    \n            var tile_layer_f6d9caec9e07e81e9c604c253fc11569 = L.tileLayer(\n                &quot;https://tile.openstreetmap.org/{z}/{x}/{y}.png&quot;,\n                {&quot;attribution&quot;: &quot;\\u0026copy; \\u003ca href=\\&quot;https://www.openstreetmap.org/copyright\\&quot;\\u003eOpenStreetMap\\u003c/a\\u003e contributors&quot;, &quot;detectRetina&quot;: false, &quot;maxNativeZoom&quot;: 19, &quot;maxZoom&quot;: 19, &quot;minZoom&quot;: 0, &quot;noWrap&quot;: false, &quot;opacity&quot;: 1, &quot;subdomains&quot;: &quot;abc&quot;, &quot;tms&quot;: false}\n            );\n        \n    \n            tile_layer_f6d9caec9e07e81e9c604c253fc11569.addTo(map_2c1582dde9de800f605394ce507a3bb8);\n        \n    \n            var circle_ee1cf940e3cbbf1648deba5840c0de37 = L.circle(\n                [28.56230197, -80.57735648],\n                {&quot;bubblingMouseEvents&quot;: true, &quot;color&quot;: &quot;#d35400&quot;, &quot;dashArray&quot;: null, &quot;dashOffset&quot;: null, &quot;fill&quot;: true, &quot;fillColor&quot;: &quot;#d35400&quot;, &quot;fillOpacity&quot;: 0.2, &quot;fillRule&quot;: &quot;evenodd&quot;, &quot;lineCap&quot;: &quot;round&quot;, &quot;lineJoin&quot;: &quot;round&quot;, &quot;opacity&quot;: 1.0, &quot;radius&quot;: 1000, &quot;stroke&quot;: true, &quot;weight&quot;: 3}\n            ).addTo(map_2c1582dde9de800f605394ce507a3bb8);\n        \n    \n        var popup_ff0a09c31780da534a9ff982a8b2ee26 = L.popup({&quot;maxWidth&quot;: &quot;100%&quot;});\n\n        \n            \n                var html_70c4d504b34f5b49395bf619fdead3d9 = $(`&lt;div id=&quot;html_70c4d504b34f5b49395bf619fdead3d9&quot; style=&quot;width: 100.0%; height: 100.0%;&quot;&gt;CCAFS LC-40&lt;/div&gt;`)[0];\n                popup_ff0a09c31780da534a9ff982a8b2ee26.setContent(html_70c4d504b34f5b49395bf619fdead3d9);\n            \n        \n\n        circle_ee1cf940e3cbbf1648deba5840c0de37.bindPopup(popup_ff0a09c31780da534a9ff982a8b2ee26)\n        ;\n\n        \n    \n    \n            var marker_5d439589ab7ab05423c69695158c853d = L.marker(\n                [28.56230197, -80.57735648],\n                {}\n            ).addTo(map_2c1582dde9de800f605394ce507a3bb8);\n        \n    \n            var div_icon_a5a9118c33466194e1f51f1a15d09f30 = L.divIcon({&quot;className&quot;: &quot;empty&quot;, &quot;html&quot;: &quot;\\u003cdiv style=\\u0027font-size: 12; color:#d35400;\\u0027\\u003e\\u003cb\\u003eCCAFS LC-40\\u003c/b\\u003e\\u003c/div\\u003e&quot;, &quot;iconAnchor&quot;: [0, 0], &quot;iconSize&quot;: [20, 20]});\n            marker_5d439589ab7ab05423c69695158c853d.setIcon(div_icon_a5a9118c33466194e1f51f1a15d09f30);\n        \n    \n            var circle_5439ab32e6a3b5ff1b06518d9c30e580 = L.circle(\n                [28.56319718, -80.57682003],\n                {&quot;bubblingMouseEvents&quot;: true, &quot;color&quot;: &quot;#d35400&quot;, &quot;dashArray&quot;: null, &quot;dashOffset&quot;: null, &quot;fill&quot;: true, &quot;fillColor&quot;: &quot;#d35400&quot;, &quot;fillOpacity&quot;: 0.2, &quot;fillRule&quot;: &quot;evenodd&quot;, &quot;lineCap&quot;: &quot;round&quot;, &quot;lineJoin&quot;: &quot;round&quot;, &quot;opacity&quot;: 1.0, &quot;radius&quot;: 1000, &quot;stroke&quot;: true, &quot;weight&quot;: 3}\n            ).addTo(map_2c1582dde9de800f605394ce507a3bb8);\n        \n    \n        var popup_f83ce4a884ea375f176eef216d7cf35b = L.popup({&quot;maxWidth&quot;: &quot;100%&quot;});\n\n        \n            \n                var html_4e1d90177c2e13f8bc22c024805cfc33 = $(`&lt;div id=&quot;html_4e1d90177c2e13f8bc22c024805cfc33&quot; style=&quot;width: 100.0%; height: 100.0%;&quot;&gt;CCAFS SLC-40&lt;/div&gt;`)[0];\n                popup_f83ce4a884ea375f176eef216d7cf35b.setContent(html_4e1d90177c2e13f8bc22c024805cfc33);\n            \n        \n\n        circle_5439ab32e6a3b5ff1b06518d9c30e580.bindPopup(popup_f83ce4a884ea375f176eef216d7cf35b)\n        ;\n\n        \n    \n    \n            var marker_6fb269ba63301d53c582e69b213e51bc = L.marker(\n                [28.56319718, -80.57682003],\n                {}\n            ).addTo(map_2c1582dde9de800f605394ce507a3bb8);\n        \n    \n            var div_icon_65840fa000b22081447c8c6e00dd7e11 = L.divIcon({&quot;className&quot;: &quot;empty&quot;, &quot;html&quot;: &quot;\\u003cdiv style=\\u0027font-size: 12; color:#d35400;\\u0027\\u003e\\u003cb\\u003eCCAFS SLC-40\\u003c/b\\u003e\\u003c/div\\u003e&quot;, &quot;iconAnchor&quot;: [0, 0], &quot;iconSize&quot;: [20, 20]});\n            marker_6fb269ba63301d53c582e69b213e51bc.setIcon(div_icon_65840fa000b22081447c8c6e00dd7e11);\n        \n    \n            var circle_df612da0010d7adc1bdb7416d4f71524 = L.circle(\n                [28.57325457, -80.64689529],\n                {&quot;bubblingMouseEvents&quot;: true, &quot;color&quot;: &quot;#d35400&quot;, &quot;dashArray&quot;: null, &quot;dashOffset&quot;: null, &quot;fill&quot;: true, &quot;fillColor&quot;: &quot;#d35400&quot;, &quot;fillOpacity&quot;: 0.2, &quot;fillRule&quot;: &quot;evenodd&quot;, &quot;lineCap&quot;: &quot;round&quot;, &quot;lineJoin&quot;: &quot;round&quot;, &quot;opacity&quot;: 1.0, &quot;radius&quot;: 1000, &quot;stroke&quot;: true, &quot;weight&quot;: 3}\n            ).addTo(map_2c1582dde9de800f605394ce507a3bb8);\n        \n    \n        var popup_85d3503d35c3278f5a59654ff80d19ca = L.popup({&quot;maxWidth&quot;: &quot;100%&quot;});\n\n        \n            \n                var html_9348f7438d15b5294c39605da0811876 = $(`&lt;div id=&quot;html_9348f7438d15b5294c39605da0811876&quot; style=&quot;width: 100.0%; height: 100.0%;&quot;&gt;KSC LC-39A&lt;/div&gt;`)[0];\n                popup_85d3503d35c3278f5a59654ff80d19ca.setContent(html_9348f7438d15b5294c39605da0811876);\n            \n        \n\n        circle_df612da0010d7adc1bdb7416d4f71524.bindPopup(popup_85d3503d35c3278f5a59654ff80d19ca)\n        ;\n\n        \n    \n    \n            var marker_140e4343b5a6d86b4bb60a22fd254a6f = L.marker(\n                [28.57325457, -80.64689529],\n                {}\n            ).addTo(map_2c1582dde9de800f605394ce507a3bb8);\n        \n    \n            var div_icon_46c7d97aba30ca3610d62067da466e56 = L.divIcon({&quot;className&quot;: &quot;empty&quot;, &quot;html&quot;: &quot;\\u003cdiv style=\\u0027font-size: 12; color:#d35400;\\u0027\\u003e\\u003cb\\u003eKSC LC-39A\\u003c/b\\u003e\\u003c/div\\u003e&quot;, &quot;iconAnchor&quot;: [0, 0], &quot;iconSize&quot;: [20, 20]});\n            marker_140e4343b5a6d86b4bb60a22fd254a6f.setIcon(div_icon_46c7d97aba30ca3610d62067da466e56);\n        \n    \n            var circle_20cd99839c32560585ad93a94588c37f = L.circle(\n                [34.63283416, -120.6107455],\n                {&quot;bubblingMouseEvents&quot;: true, &quot;color&quot;: &quot;#d35400&quot;, &quot;dashArray&quot;: null, &quot;dashOffset&quot;: null, &quot;fill&quot;: true, &quot;fillColor&quot;: &quot;#d35400&quot;, &quot;fillOpacity&quot;: 0.2, &quot;fillRule&quot;: &quot;evenodd&quot;, &quot;lineCap&quot;: &quot;round&quot;, &quot;lineJoin&quot;: &quot;round&quot;, &quot;opacity&quot;: 1.0, &quot;radius&quot;: 1000, &quot;stroke&quot;: true, &quot;weight&quot;: 3}\n            ).addTo(map_2c1582dde9de800f605394ce507a3bb8);\n        \n    \n        var popup_4d2b9efd2a0bf62a4f7b5d826888332d = L.popup({&quot;maxWidth&quot;: &quot;100%&quot;});\n\n        \n            \n                var html_8f9ea0065e5f18febe2cb7f4bf1565b1 = $(`&lt;div id=&quot;html_8f9ea0065e5f18febe2cb7f4bf1565b1&quot; style=&quot;width: 100.0%; height: 100.0%;&quot;&gt;VAFB SLC-4E&lt;/div&gt;`)[0];\n                popup_4d2b9efd2a0bf62a4f7b5d826888332d.setContent(html_8f9ea0065e5f18febe2cb7f4bf1565b1);\n            \n        \n\n        circle_20cd99839c32560585ad93a94588c37f.bindPopup(popup_4d2b9efd2a0bf62a4f7b5d826888332d)\n        ;\n\n        \n    \n    \n            var marker_340bd842c46746bf351a53fb91619bf6 = L.marker(\n                [34.63283416, -120.6107455],\n                {}\n            ).addTo(map_2c1582dde9de800f605394ce507a3bb8);\n        \n    \n            var div_icon_855902e57366879ec1086d3b0fc87aff = L.divIcon({&quot;className&quot;: &quot;empty&quot;, &quot;html&quot;: &quot;\\u003cdiv style=\\u0027font-size: 12; color:#d35400;\\u0027\\u003e\\u003cb\\u003eVAFB SLC-4E\\u003c/b\\u003e\\u003c/div\\u003e&quot;, &quot;iconAnchor&quot;: [0, 0], &quot;iconSize&quot;: [20, 20]});\n            marker_340bd842c46746bf351a53fb91619bf6.setIcon(div_icon_855902e57366879ec1086d3b0fc87aff);\n        \n    \n            var mouse_position_9a640132a2e60b28d5b673365621df32 = new L.Control.MousePosition(\n                {&quot;emptyString&quot;: &quot;NaN&quot;, &quot;lngFirst&quot;: false, &quot;numDigits&quot;: 20, &quot;position&quot;: &quot;topright&quot;, &quot;prefix&quot;: &quot;Lat:&quot;, &quot;separator&quot;: &quot; Long: &quot;}\n            );\n            mouse_position_9a640132a2e60b28d5b673365621df32.options[&quot;latFormatter&quot;] =\n                function(num) {return L.Util.formatNum(num, 5);};;\n            mouse_position_9a640132a2e60b28d5b673365621df32.options[&quot;lngFormatter&quot;] =\n                function(num) {return L.Util.formatNum(num, 5);};;\n            map_2c1582dde9de800f605394ce507a3bb8.addControl(mouse_position_9a640132a2e60b28d5b673365621df32);\n        \n    \n            tile_layer_f6d9caec9e07e81e9c604c253fc11569.addTo(map_2c1582dde9de800f605394ce507a3bb8);\n        \n    \n            var marker_830aca5bb088570f18bd17385dfb04af = L.marker(\n                [34.63543, -120.62508],\n                {}\n            ).addTo(map_2c1582dde9de800f605394ce507a3bb8);\n        \n    \n            var div_icon_f79986dc0bf83f990346cc0dc83dae98 = L.divIcon({&quot;className&quot;: &quot;empty&quot;, &quot;html&quot;: &quot;\\u003cdiv style=\\&quot;font-size: 12; color:#d35400;\\&quot;\\u003e\\u003cb\\u003e      1.34 KM\\u003c/b\\u003e\\u003c/div\\u003e&quot;, &quot;iconAnchor&quot;: [0, 0], &quot;iconSize&quot;: [20, 20]});\n            marker_830aca5bb088570f18bd17385dfb04af.setIcon(div_icon_f79986dc0bf83f990346cc0dc83dae98);\n        \n&lt;/script&gt;\n&lt;/html&gt;\" style=\"position:absolute;width:100%;height:100%;left:0;top:0;border:none !important;\" allowfullscreen webkitallowfullscreen mozallowfullscreen></iframe></div></div>"
          },
          "metadata": {}
        }
      ],
      "execution_count": 25
    },
    {
      "cell_type": "markdown",
      "source": "*TODO:* Draw a `PolyLine` between a launch site to the selected coastline point\n",
      "metadata": {}
    },
    {
      "cell_type": "code",
      "source": "import folium.plugins as plugins",
      "metadata": {
        "trusted": true
      },
      "outputs": [],
      "execution_count": 28
    },
    {
      "cell_type": "code",
      "source": "def draw_line(launch_site_lat, launch_site_lon, place_lat, place_lon, place_name):\n    launch_coordinate = [launch_site_lat, launch_site_lon]\n    place_coordinate = [coastline_lat, coastline_lon]\n\n    marker = folium.map.Marker(\n        location=place_coordinate, \n        popup=name,\n        tooltip='click',\n        icon=folium.Icon(color='red')\n    )\n    site_map.add_child(marker)\n\n    coordinates=[]\n    coordinates.append(launch_coordinate)\n    coordinates.append(place_coordinate)\n    \n    distance = calculate_distance(launch_site_lat, launch_site_lon, place_lat, place_lon)\n\n    text = \"{} {:0.2f}km\".format(place_name, distance)\n    marker = folium.map.Marker(\n        location=place_coordinate, \n        tooltip=text,\n        icon=plugins.BeautifyIcon(\n            number=round(distance,0),\n            border_color='#8D208B',\n            border_width=2,\n            text_color='#8D208B',\n            inner_icon_style='margin-top:0px;')\n    )\n    site_map.add_child(marker)\n    \n    linetext = \"{}{:0.2f} km\".format(place_name, distance)\n    folium.PolyLine(coordinates, color='#325931', weight=1.5, popup=linetext).add_to(site_map)",
      "metadata": {
        "trusted": true
      },
      "outputs": [],
      "execution_count": 29
    },
    {
      "cell_type": "code",
      "source": "# Create a `folium.PolyLine` object using the coastline coordinates and launch site coordinate\n# lines=folium.PolyLine(locations=coordinates, weight=1)\nlaunch_site_lat = 34.632834\nlaunch_site_lon = -120.610746\ncoastline_lat = 34.63543\ncoastline_lon = -120.62508\n\ndraw_line(launch_site_lat, launch_site_lon, coastline_lat, coastline_lon, \"Coastline\")\nsite_map",
      "metadata": {
        "trusted": true
      },
      "outputs": [
        {
          "execution_count": 28,
          "output_type": "execute_result",
          "data": {
            "text/plain": "<folium.folium.Map at 0x1396f70>",
            "text/html": "<div style=\"width:100%;\"><div style=\"position:relative;width:100%;height:0;padding-bottom:60%;\"><span style=\"color:#565656\">Make this Notebook Trusted to load map: File -> Trust Notebook</span><iframe srcdoc=\"&lt;!DOCTYPE html&gt;\n&lt;html&gt;\n&lt;head&gt;\n    \n    &lt;meta http-equiv=&quot;content-type&quot; content=&quot;text/html; charset=UTF-8&quot; /&gt;\n    \n        &lt;script&gt;\n            L_NO_TOUCH = false;\n            L_DISABLE_3D = false;\n        &lt;/script&gt;\n    \n    &lt;style&gt;html, body {width: 100%;height: 100%;margin: 0;padding: 0;}&lt;/style&gt;\n    &lt;style&gt;#map {position:absolute;top:0;bottom:0;right:0;left:0;}&lt;/style&gt;\n    &lt;script src=&quot;https://cdn.jsdelivr.net/npm/leaflet@1.9.3/dist/leaflet.js&quot;&gt;&lt;/script&gt;\n    &lt;script src=&quot;https://code.jquery.com/jquery-3.7.1.min.js&quot;&gt;&lt;/script&gt;\n    &lt;script src=&quot;https://cdn.jsdelivr.net/npm/bootstrap@5.2.2/dist/js/bootstrap.bundle.min.js&quot;&gt;&lt;/script&gt;\n    &lt;script src=&quot;https://cdnjs.cloudflare.com/ajax/libs/Leaflet.awesome-markers/2.0.2/leaflet.awesome-markers.js&quot;&gt;&lt;/script&gt;\n    &lt;link rel=&quot;stylesheet&quot; href=&quot;https://cdn.jsdelivr.net/npm/leaflet@1.9.3/dist/leaflet.css&quot;/&gt;\n    &lt;link rel=&quot;stylesheet&quot; href=&quot;https://cdn.jsdelivr.net/npm/bootstrap@5.2.2/dist/css/bootstrap.min.css&quot;/&gt;\n    &lt;link rel=&quot;stylesheet&quot; href=&quot;https://netdna.bootstrapcdn.com/bootstrap/3.0.0/css/bootstrap-glyphicons.css&quot;/&gt;\n    &lt;link rel=&quot;stylesheet&quot; href=&quot;https://cdn.jsdelivr.net/npm/@fortawesome/fontawesome-free@6.2.0/css/all.min.css&quot;/&gt;\n    &lt;link rel=&quot;stylesheet&quot; href=&quot;https://cdnjs.cloudflare.com/ajax/libs/Leaflet.awesome-markers/2.0.2/leaflet.awesome-markers.css&quot;/&gt;\n    &lt;link rel=&quot;stylesheet&quot; href=&quot;https://cdn.jsdelivr.net/gh/python-visualization/folium/folium/templates/leaflet.awesome.rotate.min.css&quot;/&gt;\n    \n            &lt;meta name=&quot;viewport&quot; content=&quot;width=device-width,\n                initial-scale=1.0, maximum-scale=1.0, user-scalable=no&quot; /&gt;\n            &lt;style&gt;\n                #map_2c1582dde9de800f605394ce507a3bb8 {\n                    position: relative;\n                    width: 100.0%;\n                    height: 100.0%;\n                    left: 0.0%;\n                    top: 0.0%;\n                }\n                .leaflet-container { font-size: 1rem; }\n            &lt;/style&gt;\n        \n    &lt;script src=&quot;https://cdn.jsdelivr.net/gh/ardhi/Leaflet.MousePosition/src/L.Control.MousePosition.min.js&quot;&gt;&lt;/script&gt;\n    &lt;link rel=&quot;stylesheet&quot; href=&quot;https://cdn.jsdelivr.net/gh/ardhi/Leaflet.MousePosition/src/L.Control.MousePosition.min.css&quot;/&gt;\n    &lt;script src=&quot;https://cdn.jsdelivr.net/gh/marslan390/BeautifyMarker/leaflet-beautify-marker-icon.min.js&quot;&gt;&lt;/script&gt;\n    &lt;link rel=&quot;stylesheet&quot; href=&quot;https://cdn.jsdelivr.net/gh/marslan390/BeautifyMarker/leaflet-beautify-marker-icon.min.css&quot;/&gt;\n&lt;/head&gt;\n&lt;body&gt;\n    \n    \n            &lt;div class=&quot;folium-map&quot; id=&quot;map_2c1582dde9de800f605394ce507a3bb8&quot; &gt;&lt;/div&gt;\n        \n&lt;/body&gt;\n&lt;script&gt;\n    \n    \n            var map_2c1582dde9de800f605394ce507a3bb8 = L.map(\n                &quot;map_2c1582dde9de800f605394ce507a3bb8&quot;,\n                {\n                    center: [29.559684888503615, -95.0830971930759],\n                    crs: L.CRS.EPSG3857,\n                    zoom: 5,\n                    zoomControl: true,\n                    preferCanvas: false,\n                }\n            );\n\n            \n\n        \n    \n            var tile_layer_f6d9caec9e07e81e9c604c253fc11569 = L.tileLayer(\n                &quot;https://tile.openstreetmap.org/{z}/{x}/{y}.png&quot;,\n                {&quot;attribution&quot;: &quot;\\u0026copy; \\u003ca href=\\&quot;https://www.openstreetmap.org/copyright\\&quot;\\u003eOpenStreetMap\\u003c/a\\u003e contributors&quot;, &quot;detectRetina&quot;: false, &quot;maxNativeZoom&quot;: 19, &quot;maxZoom&quot;: 19, &quot;minZoom&quot;: 0, &quot;noWrap&quot;: false, &quot;opacity&quot;: 1, &quot;subdomains&quot;: &quot;abc&quot;, &quot;tms&quot;: false}\n            );\n        \n    \n            tile_layer_f6d9caec9e07e81e9c604c253fc11569.addTo(map_2c1582dde9de800f605394ce507a3bb8);\n        \n    \n            var circle_ee1cf940e3cbbf1648deba5840c0de37 = L.circle(\n                [28.56230197, -80.57735648],\n                {&quot;bubblingMouseEvents&quot;: true, &quot;color&quot;: &quot;#d35400&quot;, &quot;dashArray&quot;: null, &quot;dashOffset&quot;: null, &quot;fill&quot;: true, &quot;fillColor&quot;: &quot;#d35400&quot;, &quot;fillOpacity&quot;: 0.2, &quot;fillRule&quot;: &quot;evenodd&quot;, &quot;lineCap&quot;: &quot;round&quot;, &quot;lineJoin&quot;: &quot;round&quot;, &quot;opacity&quot;: 1.0, &quot;radius&quot;: 1000, &quot;stroke&quot;: true, &quot;weight&quot;: 3}\n            ).addTo(map_2c1582dde9de800f605394ce507a3bb8);\n        \n    \n        var popup_ff0a09c31780da534a9ff982a8b2ee26 = L.popup({&quot;maxWidth&quot;: &quot;100%&quot;});\n\n        \n            \n                var html_70c4d504b34f5b49395bf619fdead3d9 = $(`&lt;div id=&quot;html_70c4d504b34f5b49395bf619fdead3d9&quot; style=&quot;width: 100.0%; height: 100.0%;&quot;&gt;CCAFS LC-40&lt;/div&gt;`)[0];\n                popup_ff0a09c31780da534a9ff982a8b2ee26.setContent(html_70c4d504b34f5b49395bf619fdead3d9);\n            \n        \n\n        circle_ee1cf940e3cbbf1648deba5840c0de37.bindPopup(popup_ff0a09c31780da534a9ff982a8b2ee26)\n        ;\n\n        \n    \n    \n            var marker_5d439589ab7ab05423c69695158c853d = L.marker(\n                [28.56230197, -80.57735648],\n                {}\n            ).addTo(map_2c1582dde9de800f605394ce507a3bb8);\n        \n    \n            var div_icon_a5a9118c33466194e1f51f1a15d09f30 = L.divIcon({&quot;className&quot;: &quot;empty&quot;, &quot;html&quot;: &quot;\\u003cdiv style=\\u0027font-size: 12; color:#d35400;\\u0027\\u003e\\u003cb\\u003eCCAFS LC-40\\u003c/b\\u003e\\u003c/div\\u003e&quot;, &quot;iconAnchor&quot;: [0, 0], &quot;iconSize&quot;: [20, 20]});\n            marker_5d439589ab7ab05423c69695158c853d.setIcon(div_icon_a5a9118c33466194e1f51f1a15d09f30);\n        \n    \n            var circle_5439ab32e6a3b5ff1b06518d9c30e580 = L.circle(\n                [28.56319718, -80.57682003],\n                {&quot;bubblingMouseEvents&quot;: true, &quot;color&quot;: &quot;#d35400&quot;, &quot;dashArray&quot;: null, &quot;dashOffset&quot;: null, &quot;fill&quot;: true, &quot;fillColor&quot;: &quot;#d35400&quot;, &quot;fillOpacity&quot;: 0.2, &quot;fillRule&quot;: &quot;evenodd&quot;, &quot;lineCap&quot;: &quot;round&quot;, &quot;lineJoin&quot;: &quot;round&quot;, &quot;opacity&quot;: 1.0, &quot;radius&quot;: 1000, &quot;stroke&quot;: true, &quot;weight&quot;: 3}\n            ).addTo(map_2c1582dde9de800f605394ce507a3bb8);\n        \n    \n        var popup_f83ce4a884ea375f176eef216d7cf35b = L.popup({&quot;maxWidth&quot;: &quot;100%&quot;});\n\n        \n            \n                var html_4e1d90177c2e13f8bc22c024805cfc33 = $(`&lt;div id=&quot;html_4e1d90177c2e13f8bc22c024805cfc33&quot; style=&quot;width: 100.0%; height: 100.0%;&quot;&gt;CCAFS SLC-40&lt;/div&gt;`)[0];\n                popup_f83ce4a884ea375f176eef216d7cf35b.setContent(html_4e1d90177c2e13f8bc22c024805cfc33);\n            \n        \n\n        circle_5439ab32e6a3b5ff1b06518d9c30e580.bindPopup(popup_f83ce4a884ea375f176eef216d7cf35b)\n        ;\n\n        \n    \n    \n            var marker_6fb269ba63301d53c582e69b213e51bc = L.marker(\n                [28.56319718, -80.57682003],\n                {}\n            ).addTo(map_2c1582dde9de800f605394ce507a3bb8);\n        \n    \n            var div_icon_65840fa000b22081447c8c6e00dd7e11 = L.divIcon({&quot;className&quot;: &quot;empty&quot;, &quot;html&quot;: &quot;\\u003cdiv style=\\u0027font-size: 12; color:#d35400;\\u0027\\u003e\\u003cb\\u003eCCAFS SLC-40\\u003c/b\\u003e\\u003c/div\\u003e&quot;, &quot;iconAnchor&quot;: [0, 0], &quot;iconSize&quot;: [20, 20]});\n            marker_6fb269ba63301d53c582e69b213e51bc.setIcon(div_icon_65840fa000b22081447c8c6e00dd7e11);\n        \n    \n            var circle_df612da0010d7adc1bdb7416d4f71524 = L.circle(\n                [28.57325457, -80.64689529],\n                {&quot;bubblingMouseEvents&quot;: true, &quot;color&quot;: &quot;#d35400&quot;, &quot;dashArray&quot;: null, &quot;dashOffset&quot;: null, &quot;fill&quot;: true, &quot;fillColor&quot;: &quot;#d35400&quot;, &quot;fillOpacity&quot;: 0.2, &quot;fillRule&quot;: &quot;evenodd&quot;, &quot;lineCap&quot;: &quot;round&quot;, &quot;lineJoin&quot;: &quot;round&quot;, &quot;opacity&quot;: 1.0, &quot;radius&quot;: 1000, &quot;stroke&quot;: true, &quot;weight&quot;: 3}\n            ).addTo(map_2c1582dde9de800f605394ce507a3bb8);\n        \n    \n        var popup_85d3503d35c3278f5a59654ff80d19ca = L.popup({&quot;maxWidth&quot;: &quot;100%&quot;});\n\n        \n            \n                var html_9348f7438d15b5294c39605da0811876 = $(`&lt;div id=&quot;html_9348f7438d15b5294c39605da0811876&quot; style=&quot;width: 100.0%; height: 100.0%;&quot;&gt;KSC LC-39A&lt;/div&gt;`)[0];\n                popup_85d3503d35c3278f5a59654ff80d19ca.setContent(html_9348f7438d15b5294c39605da0811876);\n            \n        \n\n        circle_df612da0010d7adc1bdb7416d4f71524.bindPopup(popup_85d3503d35c3278f5a59654ff80d19ca)\n        ;\n\n        \n    \n    \n            var marker_140e4343b5a6d86b4bb60a22fd254a6f = L.marker(\n                [28.57325457, -80.64689529],\n                {}\n            ).addTo(map_2c1582dde9de800f605394ce507a3bb8);\n        \n    \n            var div_icon_46c7d97aba30ca3610d62067da466e56 = L.divIcon({&quot;className&quot;: &quot;empty&quot;, &quot;html&quot;: &quot;\\u003cdiv style=\\u0027font-size: 12; color:#d35400;\\u0027\\u003e\\u003cb\\u003eKSC LC-39A\\u003c/b\\u003e\\u003c/div\\u003e&quot;, &quot;iconAnchor&quot;: [0, 0], &quot;iconSize&quot;: [20, 20]});\n            marker_140e4343b5a6d86b4bb60a22fd254a6f.setIcon(div_icon_46c7d97aba30ca3610d62067da466e56);\n        \n    \n            var circle_20cd99839c32560585ad93a94588c37f = L.circle(\n                [34.63283416, -120.6107455],\n                {&quot;bubblingMouseEvents&quot;: true, &quot;color&quot;: &quot;#d35400&quot;, &quot;dashArray&quot;: null, &quot;dashOffset&quot;: null, &quot;fill&quot;: true, &quot;fillColor&quot;: &quot;#d35400&quot;, &quot;fillOpacity&quot;: 0.2, &quot;fillRule&quot;: &quot;evenodd&quot;, &quot;lineCap&quot;: &quot;round&quot;, &quot;lineJoin&quot;: &quot;round&quot;, &quot;opacity&quot;: 1.0, &quot;radius&quot;: 1000, &quot;stroke&quot;: true, &quot;weight&quot;: 3}\n            ).addTo(map_2c1582dde9de800f605394ce507a3bb8);\n        \n    \n        var popup_4d2b9efd2a0bf62a4f7b5d826888332d = L.popup({&quot;maxWidth&quot;: &quot;100%&quot;});\n\n        \n            \n                var html_8f9ea0065e5f18febe2cb7f4bf1565b1 = $(`&lt;div id=&quot;html_8f9ea0065e5f18febe2cb7f4bf1565b1&quot; style=&quot;width: 100.0%; height: 100.0%;&quot;&gt;VAFB SLC-4E&lt;/div&gt;`)[0];\n                popup_4d2b9efd2a0bf62a4f7b5d826888332d.setContent(html_8f9ea0065e5f18febe2cb7f4bf1565b1);\n            \n        \n\n        circle_20cd99839c32560585ad93a94588c37f.bindPopup(popup_4d2b9efd2a0bf62a4f7b5d826888332d)\n        ;\n\n        \n    \n    \n            var marker_340bd842c46746bf351a53fb91619bf6 = L.marker(\n                [34.63283416, -120.6107455],\n                {}\n            ).addTo(map_2c1582dde9de800f605394ce507a3bb8);\n        \n    \n            var div_icon_855902e57366879ec1086d3b0fc87aff = L.divIcon({&quot;className&quot;: &quot;empty&quot;, &quot;html&quot;: &quot;\\u003cdiv style=\\u0027font-size: 12; color:#d35400;\\u0027\\u003e\\u003cb\\u003eVAFB SLC-4E\\u003c/b\\u003e\\u003c/div\\u003e&quot;, &quot;iconAnchor&quot;: [0, 0], &quot;iconSize&quot;: [20, 20]});\n            marker_340bd842c46746bf351a53fb91619bf6.setIcon(div_icon_855902e57366879ec1086d3b0fc87aff);\n        \n    \n            var mouse_position_9a640132a2e60b28d5b673365621df32 = new L.Control.MousePosition(\n                {&quot;emptyString&quot;: &quot;NaN&quot;, &quot;lngFirst&quot;: false, &quot;numDigits&quot;: 20, &quot;position&quot;: &quot;topright&quot;, &quot;prefix&quot;: &quot;Lat:&quot;, &quot;separator&quot;: &quot; Long: &quot;}\n            );\n            mouse_position_9a640132a2e60b28d5b673365621df32.options[&quot;latFormatter&quot;] =\n                function(num) {return L.Util.formatNum(num, 5);};;\n            mouse_position_9a640132a2e60b28d5b673365621df32.options[&quot;lngFormatter&quot;] =\n                function(num) {return L.Util.formatNum(num, 5);};;\n            map_2c1582dde9de800f605394ce507a3bb8.addControl(mouse_position_9a640132a2e60b28d5b673365621df32);\n        \n    \n            tile_layer_f6d9caec9e07e81e9c604c253fc11569.addTo(map_2c1582dde9de800f605394ce507a3bb8);\n        \n    \n            var marker_830aca5bb088570f18bd17385dfb04af = L.marker(\n                [34.63543, -120.62508],\n                {}\n            ).addTo(map_2c1582dde9de800f605394ce507a3bb8);\n        \n    \n            var div_icon_f79986dc0bf83f990346cc0dc83dae98 = L.divIcon({&quot;className&quot;: &quot;empty&quot;, &quot;html&quot;: &quot;\\u003cdiv style=\\&quot;font-size: 12; color:#d35400;\\&quot;\\u003e\\u003cb\\u003e      1.34 KM\\u003c/b\\u003e\\u003c/div\\u003e&quot;, &quot;iconAnchor&quot;: [0, 0], &quot;iconSize&quot;: [20, 20]});\n            marker_830aca5bb088570f18bd17385dfb04af.setIcon(div_icon_f79986dc0bf83f990346cc0dc83dae98);\n        \n    \n            tile_layer_f6d9caec9e07e81e9c604c253fc11569.addTo(map_2c1582dde9de800f605394ce507a3bb8);\n        \n    \n            var marker_c3a71e0174d05f605bbe96ddcb46ff86 = L.marker(\n                [34.63543, -120.62508],\n                {}\n            ).addTo(map_2c1582dde9de800f605394ce507a3bb8);\n        \n    \n            var icon_9417b4ec36fc1516bc8a5d05c729bd11 = L.AwesomeMarkers.icon(\n                {&quot;extraClasses&quot;: &quot;fa-rotate-0&quot;, &quot;icon&quot;: &quot;info-sign&quot;, &quot;iconColor&quot;: &quot;white&quot;, &quot;markerColor&quot;: &quot;red&quot;, &quot;prefix&quot;: &quot;glyphicon&quot;}\n            );\n            marker_c3a71e0174d05f605bbe96ddcb46ff86.setIcon(icon_9417b4ec36fc1516bc8a5d05c729bd11);\n        \n    \n        var popup_e40639716dc852bc426409eddf261cc7 = L.popup({&quot;maxWidth&quot;: &quot;100%&quot;});\n\n        \n            \n                var html_d0363ae29e7ae45af9fa4ee884c96ef2 = $(`&lt;div id=&quot;html_d0363ae29e7ae45af9fa4ee884c96ef2&quot; style=&quot;width: 100.0%; height: 100.0%;&quot;&gt;VAFB SLC-4E&lt;/div&gt;`)[0];\n                popup_e40639716dc852bc426409eddf261cc7.setContent(html_d0363ae29e7ae45af9fa4ee884c96ef2);\n            \n        \n\n        marker_c3a71e0174d05f605bbe96ddcb46ff86.bindPopup(popup_e40639716dc852bc426409eddf261cc7)\n        ;\n\n        \n    \n    \n            marker_c3a71e0174d05f605bbe96ddcb46ff86.bindTooltip(\n                `&lt;div&gt;\n                     click\n                 &lt;/div&gt;`,\n                {&quot;sticky&quot;: true}\n            );\n        \n    \n            var marker_d392a2fad641622959e3309a4a309e96 = L.marker(\n                [34.63543, -120.62508],\n                {}\n            ).addTo(map_2c1582dde9de800f605394ce507a3bb8);\n        \n    \n            var beautify_icon_e02412f9090eab30e6bc22f3aec8d1f0 = new L.BeautifyIcon.icon(\n                {&quot;backgroundColor&quot;: &quot;#FFF&quot;, &quot;borderColor&quot;: &quot;#8D208B&quot;, &quot;borderWidth&quot;: 2, &quot;innerIconStyle&quot;: &quot;margin-top:0px;&quot;, &quot;isAlphaNumericIcon&quot;: true, &quot;spin&quot;: false, &quot;text&quot;: 1.0, &quot;textColor&quot;: &quot;#8D208B&quot;}\n            )\n            marker_d392a2fad641622959e3309a4a309e96.setIcon(beautify_icon_e02412f9090eab30e6bc22f3aec8d1f0);\n        \n    \n            marker_d392a2fad641622959e3309a4a309e96.bindTooltip(\n                `&lt;div&gt;\n                     Coastline 1.34km\n                 &lt;/div&gt;`,\n                {&quot;sticky&quot;: true}\n            );\n        \n    \n            var poly_line_53de96078b9338a5a574513a472953ac = L.polyline(\n                [[34.632834, -120.610746], [34.63543, -120.62508]],\n                {&quot;bubblingMouseEvents&quot;: true, &quot;color&quot;: &quot;#325931&quot;, &quot;dashArray&quot;: null, &quot;dashOffset&quot;: null, &quot;fill&quot;: false, &quot;fillColor&quot;: &quot;#325931&quot;, &quot;fillOpacity&quot;: 0.2, &quot;fillRule&quot;: &quot;evenodd&quot;, &quot;lineCap&quot;: &quot;round&quot;, &quot;lineJoin&quot;: &quot;round&quot;, &quot;noClip&quot;: false, &quot;opacity&quot;: 1.0, &quot;smoothFactor&quot;: 1.0, &quot;stroke&quot;: true, &quot;weight&quot;: 1.5}\n            ).addTo(map_2c1582dde9de800f605394ce507a3bb8);\n        \n    \n        var popup_3be623944cfd78c47b1214eaba94de44 = L.popup({&quot;maxWidth&quot;: &quot;100%&quot;});\n\n        \n            \n                var html_00d6a2efd05fcb1a5d85a1bd6b0557c4 = $(`&lt;div id=&quot;html_00d6a2efd05fcb1a5d85a1bd6b0557c4&quot; style=&quot;width: 100.0%; height: 100.0%;&quot;&gt;Coastline1.34 km&lt;/div&gt;`)[0];\n                popup_3be623944cfd78c47b1214eaba94de44.setContent(html_00d6a2efd05fcb1a5d85a1bd6b0557c4);\n            \n        \n\n        poly_line_53de96078b9338a5a574513a472953ac.bindPopup(popup_3be623944cfd78c47b1214eaba94de44)\n        ;\n\n        \n    \n&lt;/script&gt;\n&lt;/html&gt;\" style=\"position:absolute;width:100%;height:100%;left:0;top:0;border:none !important;\" allowfullscreen webkitallowfullscreen mozallowfullscreen></iframe></div></div>"
          },
          "metadata": {}
        }
      ],
      "execution_count": 30
    },
    {
      "cell_type": "markdown",
      "source": "Your updated map with distance line should look like the following screenshot:\n",
      "metadata": {}
    },
    {
      "cell_type": "markdown",
      "source": "<center>\n    <img src=\"https://cf-courses-data.s3.us.cloud-object-storage.appdomain.cloud/IBM-DS0321EN-SkillsNetwork/labs/module_3/images/launch_site_marker_distance.png\">\n</center>\n",
      "metadata": {}
    },
    {
      "cell_type": "markdown",
      "source": "*TODO:* Similarly, you can draw a line betwee a launch site to its closest city, railway, highway, etc. You need to use `MousePosition` to find the their coordinates on the map first\n",
      "metadata": {}
    },
    {
      "cell_type": "markdown",
      "source": "A railway map symbol may look like this:\n",
      "metadata": {}
    },
    {
      "cell_type": "markdown",
      "source": "<center>\n    <img src=\"https://cf-courses-data.s3.us.cloud-object-storage.appdomain.cloud/IBM-DS0321EN-SkillsNetwork/labs/module_3/images/railway.png\">\n</center>\n",
      "metadata": {}
    },
    {
      "cell_type": "markdown",
      "source": "A highway map symbol may look like this:\n",
      "metadata": {}
    },
    {
      "cell_type": "markdown",
      "source": "<center>\n    <img src=\"https://cf-courses-data.s3.us.cloud-object-storage.appdomain.cloud/IBM-DS0321EN-SkillsNetwork/labs/module_3/images/highway.png\">\n</center>\n",
      "metadata": {}
    },
    {
      "cell_type": "markdown",
      "source": "A city map symbol may look like this:\n",
      "metadata": {}
    },
    {
      "cell_type": "markdown",
      "source": "<center>\n    <img src=\"https://cf-courses-data.s3.us.cloud-object-storage.appdomain.cloud/IBM-DS0321EN-SkillsNetwork/labs/module_3/images/city.png\">\n</center>\n",
      "metadata": {}
    },
    {
      "cell_type": "code",
      "source": "# Create a marker with distance to a closest city, railway, highway, etc.\n# Draw a line between the marker to the launch site\n",
      "metadata": {},
      "outputs": [],
      "execution_count": null
    },
    {
      "cell_type": "code",
      "source": "# Closest city\ndraw_line(launch_site_lat, launch_site_lon, 34.63858, -120.45839, \"Lompoc city\")\n\n# Railway\ndraw_line(launch_site_lat, launch_site_lon, 34.63263, -120.62507, \"Santa Barbara Subdivision MT1\")\n\n# Highway\ndraw_line(launch_site_lat, launch_site_lon, 34.63469, -120.61575, \"Agena Way\")\n\nsite_map",
      "metadata": {
        "trusted": true
      },
      "outputs": [
        {
          "execution_count": 29,
          "output_type": "execute_result",
          "data": {
            "text/plain": "<folium.folium.Map at 0x1396f70>",
            "text/html": "<div style=\"width:100%;\"><div style=\"position:relative;width:100%;height:0;padding-bottom:60%;\"><span style=\"color:#565656\">Make this Notebook Trusted to load map: File -> Trust Notebook</span><iframe srcdoc=\"&lt;!DOCTYPE html&gt;\n&lt;html&gt;\n&lt;head&gt;\n    \n    &lt;meta http-equiv=&quot;content-type&quot; content=&quot;text/html; charset=UTF-8&quot; /&gt;\n    \n        &lt;script&gt;\n            L_NO_TOUCH = false;\n            L_DISABLE_3D = false;\n        &lt;/script&gt;\n    \n    &lt;style&gt;html, body {width: 100%;height: 100%;margin: 0;padding: 0;}&lt;/style&gt;\n    &lt;style&gt;#map {position:absolute;top:0;bottom:0;right:0;left:0;}&lt;/style&gt;\n    &lt;script src=&quot;https://cdn.jsdelivr.net/npm/leaflet@1.9.3/dist/leaflet.js&quot;&gt;&lt;/script&gt;\n    &lt;script src=&quot;https://code.jquery.com/jquery-3.7.1.min.js&quot;&gt;&lt;/script&gt;\n    &lt;script src=&quot;https://cdn.jsdelivr.net/npm/bootstrap@5.2.2/dist/js/bootstrap.bundle.min.js&quot;&gt;&lt;/script&gt;\n    &lt;script src=&quot;https://cdnjs.cloudflare.com/ajax/libs/Leaflet.awesome-markers/2.0.2/leaflet.awesome-markers.js&quot;&gt;&lt;/script&gt;\n    &lt;link rel=&quot;stylesheet&quot; href=&quot;https://cdn.jsdelivr.net/npm/leaflet@1.9.3/dist/leaflet.css&quot;/&gt;\n    &lt;link rel=&quot;stylesheet&quot; href=&quot;https://cdn.jsdelivr.net/npm/bootstrap@5.2.2/dist/css/bootstrap.min.css&quot;/&gt;\n    &lt;link rel=&quot;stylesheet&quot; href=&quot;https://netdna.bootstrapcdn.com/bootstrap/3.0.0/css/bootstrap-glyphicons.css&quot;/&gt;\n    &lt;link rel=&quot;stylesheet&quot; href=&quot;https://cdn.jsdelivr.net/npm/@fortawesome/fontawesome-free@6.2.0/css/all.min.css&quot;/&gt;\n    &lt;link rel=&quot;stylesheet&quot; href=&quot;https://cdnjs.cloudflare.com/ajax/libs/Leaflet.awesome-markers/2.0.2/leaflet.awesome-markers.css&quot;/&gt;\n    &lt;link rel=&quot;stylesheet&quot; href=&quot;https://cdn.jsdelivr.net/gh/python-visualization/folium/folium/templates/leaflet.awesome.rotate.min.css&quot;/&gt;\n    \n            &lt;meta name=&quot;viewport&quot; content=&quot;width=device-width,\n                initial-scale=1.0, maximum-scale=1.0, user-scalable=no&quot; /&gt;\n            &lt;style&gt;\n                #map_2c1582dde9de800f605394ce507a3bb8 {\n                    position: relative;\n                    width: 100.0%;\n                    height: 100.0%;\n                    left: 0.0%;\n                    top: 0.0%;\n                }\n                .leaflet-container { font-size: 1rem; }\n            &lt;/style&gt;\n        \n    &lt;script src=&quot;https://cdn.jsdelivr.net/gh/ardhi/Leaflet.MousePosition/src/L.Control.MousePosition.min.js&quot;&gt;&lt;/script&gt;\n    &lt;link rel=&quot;stylesheet&quot; href=&quot;https://cdn.jsdelivr.net/gh/ardhi/Leaflet.MousePosition/src/L.Control.MousePosition.min.css&quot;/&gt;\n    &lt;script src=&quot;https://cdn.jsdelivr.net/gh/marslan390/BeautifyMarker/leaflet-beautify-marker-icon.min.js&quot;&gt;&lt;/script&gt;\n    &lt;link rel=&quot;stylesheet&quot; href=&quot;https://cdn.jsdelivr.net/gh/marslan390/BeautifyMarker/leaflet-beautify-marker-icon.min.css&quot;/&gt;\n&lt;/head&gt;\n&lt;body&gt;\n    \n    \n            &lt;div class=&quot;folium-map&quot; id=&quot;map_2c1582dde9de800f605394ce507a3bb8&quot; &gt;&lt;/div&gt;\n        \n&lt;/body&gt;\n&lt;script&gt;\n    \n    \n            var map_2c1582dde9de800f605394ce507a3bb8 = L.map(\n                &quot;map_2c1582dde9de800f605394ce507a3bb8&quot;,\n                {\n                    center: [29.559684888503615, -95.0830971930759],\n                    crs: L.CRS.EPSG3857,\n                    zoom: 5,\n                    zoomControl: true,\n                    preferCanvas: false,\n                }\n            );\n\n            \n\n        \n    \n            var tile_layer_f6d9caec9e07e81e9c604c253fc11569 = L.tileLayer(\n                &quot;https://tile.openstreetmap.org/{z}/{x}/{y}.png&quot;,\n                {&quot;attribution&quot;: &quot;\\u0026copy; \\u003ca href=\\&quot;https://www.openstreetmap.org/copyright\\&quot;\\u003eOpenStreetMap\\u003c/a\\u003e contributors&quot;, &quot;detectRetina&quot;: false, &quot;maxNativeZoom&quot;: 19, &quot;maxZoom&quot;: 19, &quot;minZoom&quot;: 0, &quot;noWrap&quot;: false, &quot;opacity&quot;: 1, &quot;subdomains&quot;: &quot;abc&quot;, &quot;tms&quot;: false}\n            );\n        \n    \n            tile_layer_f6d9caec9e07e81e9c604c253fc11569.addTo(map_2c1582dde9de800f605394ce507a3bb8);\n        \n    \n            var circle_ee1cf940e3cbbf1648deba5840c0de37 = L.circle(\n                [28.56230197, -80.57735648],\n                {&quot;bubblingMouseEvents&quot;: true, &quot;color&quot;: &quot;#d35400&quot;, &quot;dashArray&quot;: null, &quot;dashOffset&quot;: null, &quot;fill&quot;: true, &quot;fillColor&quot;: &quot;#d35400&quot;, &quot;fillOpacity&quot;: 0.2, &quot;fillRule&quot;: &quot;evenodd&quot;, &quot;lineCap&quot;: &quot;round&quot;, &quot;lineJoin&quot;: &quot;round&quot;, &quot;opacity&quot;: 1.0, &quot;radius&quot;: 1000, &quot;stroke&quot;: true, &quot;weight&quot;: 3}\n            ).addTo(map_2c1582dde9de800f605394ce507a3bb8);\n        \n    \n        var popup_ff0a09c31780da534a9ff982a8b2ee26 = L.popup({&quot;maxWidth&quot;: &quot;100%&quot;});\n\n        \n            \n                var html_70c4d504b34f5b49395bf619fdead3d9 = $(`&lt;div id=&quot;html_70c4d504b34f5b49395bf619fdead3d9&quot; style=&quot;width: 100.0%; height: 100.0%;&quot;&gt;CCAFS LC-40&lt;/div&gt;`)[0];\n                popup_ff0a09c31780da534a9ff982a8b2ee26.setContent(html_70c4d504b34f5b49395bf619fdead3d9);\n            \n        \n\n        circle_ee1cf940e3cbbf1648deba5840c0de37.bindPopup(popup_ff0a09c31780da534a9ff982a8b2ee26)\n        ;\n\n        \n    \n    \n            var marker_5d439589ab7ab05423c69695158c853d = L.marker(\n                [28.56230197, -80.57735648],\n                {}\n            ).addTo(map_2c1582dde9de800f605394ce507a3bb8);\n        \n    \n            var div_icon_a5a9118c33466194e1f51f1a15d09f30 = L.divIcon({&quot;className&quot;: &quot;empty&quot;, &quot;html&quot;: &quot;\\u003cdiv style=\\u0027font-size: 12; color:#d35400;\\u0027\\u003e\\u003cb\\u003eCCAFS LC-40\\u003c/b\\u003e\\u003c/div\\u003e&quot;, &quot;iconAnchor&quot;: [0, 0], &quot;iconSize&quot;: [20, 20]});\n            marker_5d439589ab7ab05423c69695158c853d.setIcon(div_icon_a5a9118c33466194e1f51f1a15d09f30);\n        \n    \n            var circle_5439ab32e6a3b5ff1b06518d9c30e580 = L.circle(\n                [28.56319718, -80.57682003],\n                {&quot;bubblingMouseEvents&quot;: true, &quot;color&quot;: &quot;#d35400&quot;, &quot;dashArray&quot;: null, &quot;dashOffset&quot;: null, &quot;fill&quot;: true, &quot;fillColor&quot;: &quot;#d35400&quot;, &quot;fillOpacity&quot;: 0.2, &quot;fillRule&quot;: &quot;evenodd&quot;, &quot;lineCap&quot;: &quot;round&quot;, &quot;lineJoin&quot;: &quot;round&quot;, &quot;opacity&quot;: 1.0, &quot;radius&quot;: 1000, &quot;stroke&quot;: true, &quot;weight&quot;: 3}\n            ).addTo(map_2c1582dde9de800f605394ce507a3bb8);\n        \n    \n        var popup_f83ce4a884ea375f176eef216d7cf35b = L.popup({&quot;maxWidth&quot;: &quot;100%&quot;});\n\n        \n            \n                var html_4e1d90177c2e13f8bc22c024805cfc33 = $(`&lt;div id=&quot;html_4e1d90177c2e13f8bc22c024805cfc33&quot; style=&quot;width: 100.0%; height: 100.0%;&quot;&gt;CCAFS SLC-40&lt;/div&gt;`)[0];\n                popup_f83ce4a884ea375f176eef216d7cf35b.setContent(html_4e1d90177c2e13f8bc22c024805cfc33);\n            \n        \n\n        circle_5439ab32e6a3b5ff1b06518d9c30e580.bindPopup(popup_f83ce4a884ea375f176eef216d7cf35b)\n        ;\n\n        \n    \n    \n            var marker_6fb269ba63301d53c582e69b213e51bc = L.marker(\n                [28.56319718, -80.57682003],\n                {}\n            ).addTo(map_2c1582dde9de800f605394ce507a3bb8);\n        \n    \n            var div_icon_65840fa000b22081447c8c6e00dd7e11 = L.divIcon({&quot;className&quot;: &quot;empty&quot;, &quot;html&quot;: &quot;\\u003cdiv style=\\u0027font-size: 12; color:#d35400;\\u0027\\u003e\\u003cb\\u003eCCAFS SLC-40\\u003c/b\\u003e\\u003c/div\\u003e&quot;, &quot;iconAnchor&quot;: [0, 0], &quot;iconSize&quot;: [20, 20]});\n            marker_6fb269ba63301d53c582e69b213e51bc.setIcon(div_icon_65840fa000b22081447c8c6e00dd7e11);\n        \n    \n            var circle_df612da0010d7adc1bdb7416d4f71524 = L.circle(\n                [28.57325457, -80.64689529],\n                {&quot;bubblingMouseEvents&quot;: true, &quot;color&quot;: &quot;#d35400&quot;, &quot;dashArray&quot;: null, &quot;dashOffset&quot;: null, &quot;fill&quot;: true, &quot;fillColor&quot;: &quot;#d35400&quot;, &quot;fillOpacity&quot;: 0.2, &quot;fillRule&quot;: &quot;evenodd&quot;, &quot;lineCap&quot;: &quot;round&quot;, &quot;lineJoin&quot;: &quot;round&quot;, &quot;opacity&quot;: 1.0, &quot;radius&quot;: 1000, &quot;stroke&quot;: true, &quot;weight&quot;: 3}\n            ).addTo(map_2c1582dde9de800f605394ce507a3bb8);\n        \n    \n        var popup_85d3503d35c3278f5a59654ff80d19ca = L.popup({&quot;maxWidth&quot;: &quot;100%&quot;});\n\n        \n            \n                var html_9348f7438d15b5294c39605da0811876 = $(`&lt;div id=&quot;html_9348f7438d15b5294c39605da0811876&quot; style=&quot;width: 100.0%; height: 100.0%;&quot;&gt;KSC LC-39A&lt;/div&gt;`)[0];\n                popup_85d3503d35c3278f5a59654ff80d19ca.setContent(html_9348f7438d15b5294c39605da0811876);\n            \n        \n\n        circle_df612da0010d7adc1bdb7416d4f71524.bindPopup(popup_85d3503d35c3278f5a59654ff80d19ca)\n        ;\n\n        \n    \n    \n            var marker_140e4343b5a6d86b4bb60a22fd254a6f = L.marker(\n                [28.57325457, -80.64689529],\n                {}\n            ).addTo(map_2c1582dde9de800f605394ce507a3bb8);\n        \n    \n            var div_icon_46c7d97aba30ca3610d62067da466e56 = L.divIcon({&quot;className&quot;: &quot;empty&quot;, &quot;html&quot;: &quot;\\u003cdiv style=\\u0027font-size: 12; color:#d35400;\\u0027\\u003e\\u003cb\\u003eKSC LC-39A\\u003c/b\\u003e\\u003c/div\\u003e&quot;, &quot;iconAnchor&quot;: [0, 0], &quot;iconSize&quot;: [20, 20]});\n            marker_140e4343b5a6d86b4bb60a22fd254a6f.setIcon(div_icon_46c7d97aba30ca3610d62067da466e56);\n        \n    \n            var circle_20cd99839c32560585ad93a94588c37f = L.circle(\n                [34.63283416, -120.6107455],\n                {&quot;bubblingMouseEvents&quot;: true, &quot;color&quot;: &quot;#d35400&quot;, &quot;dashArray&quot;: null, &quot;dashOffset&quot;: null, &quot;fill&quot;: true, &quot;fillColor&quot;: &quot;#d35400&quot;, &quot;fillOpacity&quot;: 0.2, &quot;fillRule&quot;: &quot;evenodd&quot;, &quot;lineCap&quot;: &quot;round&quot;, &quot;lineJoin&quot;: &quot;round&quot;, &quot;opacity&quot;: 1.0, &quot;radius&quot;: 1000, &quot;stroke&quot;: true, &quot;weight&quot;: 3}\n            ).addTo(map_2c1582dde9de800f605394ce507a3bb8);\n        \n    \n        var popup_4d2b9efd2a0bf62a4f7b5d826888332d = L.popup({&quot;maxWidth&quot;: &quot;100%&quot;});\n\n        \n            \n                var html_8f9ea0065e5f18febe2cb7f4bf1565b1 = $(`&lt;div id=&quot;html_8f9ea0065e5f18febe2cb7f4bf1565b1&quot; style=&quot;width: 100.0%; height: 100.0%;&quot;&gt;VAFB SLC-4E&lt;/div&gt;`)[0];\n                popup_4d2b9efd2a0bf62a4f7b5d826888332d.setContent(html_8f9ea0065e5f18febe2cb7f4bf1565b1);\n            \n        \n\n        circle_20cd99839c32560585ad93a94588c37f.bindPopup(popup_4d2b9efd2a0bf62a4f7b5d826888332d)\n        ;\n\n        \n    \n    \n            var marker_340bd842c46746bf351a53fb91619bf6 = L.marker(\n                [34.63283416, -120.6107455],\n                {}\n            ).addTo(map_2c1582dde9de800f605394ce507a3bb8);\n        \n    \n            var div_icon_855902e57366879ec1086d3b0fc87aff = L.divIcon({&quot;className&quot;: &quot;empty&quot;, &quot;html&quot;: &quot;\\u003cdiv style=\\u0027font-size: 12; color:#d35400;\\u0027\\u003e\\u003cb\\u003eVAFB SLC-4E\\u003c/b\\u003e\\u003c/div\\u003e&quot;, &quot;iconAnchor&quot;: [0, 0], &quot;iconSize&quot;: [20, 20]});\n            marker_340bd842c46746bf351a53fb91619bf6.setIcon(div_icon_855902e57366879ec1086d3b0fc87aff);\n        \n    \n            var mouse_position_9a640132a2e60b28d5b673365621df32 = new L.Control.MousePosition(\n                {&quot;emptyString&quot;: &quot;NaN&quot;, &quot;lngFirst&quot;: false, &quot;numDigits&quot;: 20, &quot;position&quot;: &quot;topright&quot;, &quot;prefix&quot;: &quot;Lat:&quot;, &quot;separator&quot;: &quot; Long: &quot;}\n            );\n            mouse_position_9a640132a2e60b28d5b673365621df32.options[&quot;latFormatter&quot;] =\n                function(num) {return L.Util.formatNum(num, 5);};;\n            mouse_position_9a640132a2e60b28d5b673365621df32.options[&quot;lngFormatter&quot;] =\n                function(num) {return L.Util.formatNum(num, 5);};;\n            map_2c1582dde9de800f605394ce507a3bb8.addControl(mouse_position_9a640132a2e60b28d5b673365621df32);\n        \n    \n            tile_layer_f6d9caec9e07e81e9c604c253fc11569.addTo(map_2c1582dde9de800f605394ce507a3bb8);\n        \n    \n            var marker_830aca5bb088570f18bd17385dfb04af = L.marker(\n                [34.63543, -120.62508],\n                {}\n            ).addTo(map_2c1582dde9de800f605394ce507a3bb8);\n        \n    \n            var div_icon_f79986dc0bf83f990346cc0dc83dae98 = L.divIcon({&quot;className&quot;: &quot;empty&quot;, &quot;html&quot;: &quot;\\u003cdiv style=\\&quot;font-size: 12; color:#d35400;\\&quot;\\u003e\\u003cb\\u003e      1.34 KM\\u003c/b\\u003e\\u003c/div\\u003e&quot;, &quot;iconAnchor&quot;: [0, 0], &quot;iconSize&quot;: [20, 20]});\n            marker_830aca5bb088570f18bd17385dfb04af.setIcon(div_icon_f79986dc0bf83f990346cc0dc83dae98);\n        \n    \n            tile_layer_f6d9caec9e07e81e9c604c253fc11569.addTo(map_2c1582dde9de800f605394ce507a3bb8);\n        \n    \n            var marker_c3a71e0174d05f605bbe96ddcb46ff86 = L.marker(\n                [34.63543, -120.62508],\n                {}\n            ).addTo(map_2c1582dde9de800f605394ce507a3bb8);\n        \n    \n            var icon_9417b4ec36fc1516bc8a5d05c729bd11 = L.AwesomeMarkers.icon(\n                {&quot;extraClasses&quot;: &quot;fa-rotate-0&quot;, &quot;icon&quot;: &quot;info-sign&quot;, &quot;iconColor&quot;: &quot;white&quot;, &quot;markerColor&quot;: &quot;red&quot;, &quot;prefix&quot;: &quot;glyphicon&quot;}\n            );\n            marker_c3a71e0174d05f605bbe96ddcb46ff86.setIcon(icon_9417b4ec36fc1516bc8a5d05c729bd11);\n        \n    \n        var popup_e40639716dc852bc426409eddf261cc7 = L.popup({&quot;maxWidth&quot;: &quot;100%&quot;});\n\n        \n            \n                var html_d0363ae29e7ae45af9fa4ee884c96ef2 = $(`&lt;div id=&quot;html_d0363ae29e7ae45af9fa4ee884c96ef2&quot; style=&quot;width: 100.0%; height: 100.0%;&quot;&gt;VAFB SLC-4E&lt;/div&gt;`)[0];\n                popup_e40639716dc852bc426409eddf261cc7.setContent(html_d0363ae29e7ae45af9fa4ee884c96ef2);\n            \n        \n\n        marker_c3a71e0174d05f605bbe96ddcb46ff86.bindPopup(popup_e40639716dc852bc426409eddf261cc7)\n        ;\n\n        \n    \n    \n            marker_c3a71e0174d05f605bbe96ddcb46ff86.bindTooltip(\n                `&lt;div&gt;\n                     click\n                 &lt;/div&gt;`,\n                {&quot;sticky&quot;: true}\n            );\n        \n    \n            var marker_d392a2fad641622959e3309a4a309e96 = L.marker(\n                [34.63543, -120.62508],\n                {}\n            ).addTo(map_2c1582dde9de800f605394ce507a3bb8);\n        \n    \n            var beautify_icon_e02412f9090eab30e6bc22f3aec8d1f0 = new L.BeautifyIcon.icon(\n                {&quot;backgroundColor&quot;: &quot;#FFF&quot;, &quot;borderColor&quot;: &quot;#8D208B&quot;, &quot;borderWidth&quot;: 2, &quot;innerIconStyle&quot;: &quot;margin-top:0px;&quot;, &quot;isAlphaNumericIcon&quot;: true, &quot;spin&quot;: false, &quot;text&quot;: 1.0, &quot;textColor&quot;: &quot;#8D208B&quot;}\n            )\n            marker_d392a2fad641622959e3309a4a309e96.setIcon(beautify_icon_e02412f9090eab30e6bc22f3aec8d1f0);\n        \n    \n            marker_d392a2fad641622959e3309a4a309e96.bindTooltip(\n                `&lt;div&gt;\n                     Coastline 1.34km\n                 &lt;/div&gt;`,\n                {&quot;sticky&quot;: true}\n            );\n        \n    \n            var poly_line_53de96078b9338a5a574513a472953ac = L.polyline(\n                [[34.632834, -120.610746], [34.63543, -120.62508]],\n                {&quot;bubblingMouseEvents&quot;: true, &quot;color&quot;: &quot;#325931&quot;, &quot;dashArray&quot;: null, &quot;dashOffset&quot;: null, &quot;fill&quot;: false, &quot;fillColor&quot;: &quot;#325931&quot;, &quot;fillOpacity&quot;: 0.2, &quot;fillRule&quot;: &quot;evenodd&quot;, &quot;lineCap&quot;: &quot;round&quot;, &quot;lineJoin&quot;: &quot;round&quot;, &quot;noClip&quot;: false, &quot;opacity&quot;: 1.0, &quot;smoothFactor&quot;: 1.0, &quot;stroke&quot;: true, &quot;weight&quot;: 1.5}\n            ).addTo(map_2c1582dde9de800f605394ce507a3bb8);\n        \n    \n        var popup_3be623944cfd78c47b1214eaba94de44 = L.popup({&quot;maxWidth&quot;: &quot;100%&quot;});\n\n        \n            \n                var html_00d6a2efd05fcb1a5d85a1bd6b0557c4 = $(`&lt;div id=&quot;html_00d6a2efd05fcb1a5d85a1bd6b0557c4&quot; style=&quot;width: 100.0%; height: 100.0%;&quot;&gt;Coastline1.34 km&lt;/div&gt;`)[0];\n                popup_3be623944cfd78c47b1214eaba94de44.setContent(html_00d6a2efd05fcb1a5d85a1bd6b0557c4);\n            \n        \n\n        poly_line_53de96078b9338a5a574513a472953ac.bindPopup(popup_3be623944cfd78c47b1214eaba94de44)\n        ;\n\n        \n    \n    \n            tile_layer_f6d9caec9e07e81e9c604c253fc11569.addTo(map_2c1582dde9de800f605394ce507a3bb8);\n        \n    \n            var marker_863c66f1f4b02cbd6aec6178f30af066 = L.marker(\n                [34.63543, -120.62508],\n                {}\n            ).addTo(map_2c1582dde9de800f605394ce507a3bb8);\n        \n    \n            var icon_955ee4d1106db653aa5c545e4758841e = L.AwesomeMarkers.icon(\n                {&quot;extraClasses&quot;: &quot;fa-rotate-0&quot;, &quot;icon&quot;: &quot;info-sign&quot;, &quot;iconColor&quot;: &quot;white&quot;, &quot;markerColor&quot;: &quot;red&quot;, &quot;prefix&quot;: &quot;glyphicon&quot;}\n            );\n            marker_863c66f1f4b02cbd6aec6178f30af066.setIcon(icon_955ee4d1106db653aa5c545e4758841e);\n        \n    \n        var popup_4ac9c7c3ba2ac307898580c0e57a6f0b = L.popup({&quot;maxWidth&quot;: &quot;100%&quot;});\n\n        \n            \n                var html_12cdcb7e91f9835c11206f44df35a53d = $(`&lt;div id=&quot;html_12cdcb7e91f9835c11206f44df35a53d&quot; style=&quot;width: 100.0%; height: 100.0%;&quot;&gt;VAFB SLC-4E&lt;/div&gt;`)[0];\n                popup_4ac9c7c3ba2ac307898580c0e57a6f0b.setContent(html_12cdcb7e91f9835c11206f44df35a53d);\n            \n        \n\n        marker_863c66f1f4b02cbd6aec6178f30af066.bindPopup(popup_4ac9c7c3ba2ac307898580c0e57a6f0b)\n        ;\n\n        \n    \n    \n            marker_863c66f1f4b02cbd6aec6178f30af066.bindTooltip(\n                `&lt;div&gt;\n                     click\n                 &lt;/div&gt;`,\n                {&quot;sticky&quot;: true}\n            );\n        \n    \n            var marker_fd8a3aff215dd9bf7304a6e01c957fa0 = L.marker(\n                [34.63543, -120.62508],\n                {}\n            ).addTo(map_2c1582dde9de800f605394ce507a3bb8);\n        \n    \n            var beautify_icon_047ae6a0242a068b393bea84d3480e03 = new L.BeautifyIcon.icon(\n                {&quot;backgroundColor&quot;: &quot;#FFF&quot;, &quot;borderColor&quot;: &quot;#8D208B&quot;, &quot;borderWidth&quot;: 2, &quot;innerIconStyle&quot;: &quot;margin-top:0px;&quot;, &quot;isAlphaNumericIcon&quot;: true, &quot;spin&quot;: false, &quot;text&quot;: 14.0, &quot;textColor&quot;: &quot;#8D208B&quot;}\n            )\n            marker_fd8a3aff215dd9bf7304a6e01c957fa0.setIcon(beautify_icon_047ae6a0242a068b393bea84d3480e03);\n        \n    \n            marker_fd8a3aff215dd9bf7304a6e01c957fa0.bindTooltip(\n                `&lt;div&gt;\n                     Lompoc city 13.96km\n                 &lt;/div&gt;`,\n                {&quot;sticky&quot;: true}\n            );\n        \n    \n            var poly_line_848c984cd7f631cca39fe46b81d26fc3 = L.polyline(\n                [[34.632834, -120.610746], [34.63543, -120.62508]],\n                {&quot;bubblingMouseEvents&quot;: true, &quot;color&quot;: &quot;#325931&quot;, &quot;dashArray&quot;: null, &quot;dashOffset&quot;: null, &quot;fill&quot;: false, &quot;fillColor&quot;: &quot;#325931&quot;, &quot;fillOpacity&quot;: 0.2, &quot;fillRule&quot;: &quot;evenodd&quot;, &quot;lineCap&quot;: &quot;round&quot;, &quot;lineJoin&quot;: &quot;round&quot;, &quot;noClip&quot;: false, &quot;opacity&quot;: 1.0, &quot;smoothFactor&quot;: 1.0, &quot;stroke&quot;: true, &quot;weight&quot;: 1.5}\n            ).addTo(map_2c1582dde9de800f605394ce507a3bb8);\n        \n    \n        var popup_dbaee8b8e7c83105f499050fdd4a0fba = L.popup({&quot;maxWidth&quot;: &quot;100%&quot;});\n\n        \n            \n                var html_813fa62f1cb96b719b732d3169cbcd97 = $(`&lt;div id=&quot;html_813fa62f1cb96b719b732d3169cbcd97&quot; style=&quot;width: 100.0%; height: 100.0%;&quot;&gt;Lompoc city13.96 km&lt;/div&gt;`)[0];\n                popup_dbaee8b8e7c83105f499050fdd4a0fba.setContent(html_813fa62f1cb96b719b732d3169cbcd97);\n            \n        \n\n        poly_line_848c984cd7f631cca39fe46b81d26fc3.bindPopup(popup_dbaee8b8e7c83105f499050fdd4a0fba)\n        ;\n\n        \n    \n    \n            var marker_18ac5cdb9debac9b71f43a2d8f41e85e = L.marker(\n                [34.63543, -120.62508],\n                {}\n            ).addTo(map_2c1582dde9de800f605394ce507a3bb8);\n        \n    \n            var icon_7c25c70922f74f75238d0bfb352d7d1c = L.AwesomeMarkers.icon(\n                {&quot;extraClasses&quot;: &quot;fa-rotate-0&quot;, &quot;icon&quot;: &quot;info-sign&quot;, &quot;iconColor&quot;: &quot;white&quot;, &quot;markerColor&quot;: &quot;red&quot;, &quot;prefix&quot;: &quot;glyphicon&quot;}\n            );\n            marker_18ac5cdb9debac9b71f43a2d8f41e85e.setIcon(icon_7c25c70922f74f75238d0bfb352d7d1c);\n        \n    \n        var popup_59d0021e97dd6e180bbd193464591c49 = L.popup({&quot;maxWidth&quot;: &quot;100%&quot;});\n\n        \n            \n                var html_5f148774e669f9d8b0fda7229fe6554f = $(`&lt;div id=&quot;html_5f148774e669f9d8b0fda7229fe6554f&quot; style=&quot;width: 100.0%; height: 100.0%;&quot;&gt;VAFB SLC-4E&lt;/div&gt;`)[0];\n                popup_59d0021e97dd6e180bbd193464591c49.setContent(html_5f148774e669f9d8b0fda7229fe6554f);\n            \n        \n\n        marker_18ac5cdb9debac9b71f43a2d8f41e85e.bindPopup(popup_59d0021e97dd6e180bbd193464591c49)\n        ;\n\n        \n    \n    \n            marker_18ac5cdb9debac9b71f43a2d8f41e85e.bindTooltip(\n                `&lt;div&gt;\n                     click\n                 &lt;/div&gt;`,\n                {&quot;sticky&quot;: true}\n            );\n        \n    \n            var marker_1662a289cb9ca7f4386c98a81a874a1f = L.marker(\n                [34.63543, -120.62508],\n                {}\n            ).addTo(map_2c1582dde9de800f605394ce507a3bb8);\n        \n    \n            var beautify_icon_a169043902077c4428d875d8cc25f929 = new L.BeautifyIcon.icon(\n                {&quot;backgroundColor&quot;: &quot;#FFF&quot;, &quot;borderColor&quot;: &quot;#8D208B&quot;, &quot;borderWidth&quot;: 2, &quot;innerIconStyle&quot;: &quot;margin-top:0px;&quot;, &quot;isAlphaNumericIcon&quot;: true, &quot;spin&quot;: false, &quot;text&quot;: 1.0, &quot;textColor&quot;: &quot;#8D208B&quot;}\n            )\n            marker_1662a289cb9ca7f4386c98a81a874a1f.setIcon(beautify_icon_a169043902077c4428d875d8cc25f929);\n        \n    \n            marker_1662a289cb9ca7f4386c98a81a874a1f.bindTooltip(\n                `&lt;div&gt;\n                     Santa Barbara Subdivision MT1 1.31km\n                 &lt;/div&gt;`,\n                {&quot;sticky&quot;: true}\n            );\n        \n    \n            var poly_line_b2931c0696475a250c3ed15fb9c70d13 = L.polyline(\n                [[34.632834, -120.610746], [34.63543, -120.62508]],\n                {&quot;bubblingMouseEvents&quot;: true, &quot;color&quot;: &quot;#325931&quot;, &quot;dashArray&quot;: null, &quot;dashOffset&quot;: null, &quot;fill&quot;: false, &quot;fillColor&quot;: &quot;#325931&quot;, &quot;fillOpacity&quot;: 0.2, &quot;fillRule&quot;: &quot;evenodd&quot;, &quot;lineCap&quot;: &quot;round&quot;, &quot;lineJoin&quot;: &quot;round&quot;, &quot;noClip&quot;: false, &quot;opacity&quot;: 1.0, &quot;smoothFactor&quot;: 1.0, &quot;stroke&quot;: true, &quot;weight&quot;: 1.5}\n            ).addTo(map_2c1582dde9de800f605394ce507a3bb8);\n        \n    \n        var popup_8353a4d352804baa48d0ff1b89535306 = L.popup({&quot;maxWidth&quot;: &quot;100%&quot;});\n\n        \n            \n                var html_7f9d423da38d7064f3caff8b6ec51d6a = $(`&lt;div id=&quot;html_7f9d423da38d7064f3caff8b6ec51d6a&quot; style=&quot;width: 100.0%; height: 100.0%;&quot;&gt;Santa Barbara Subdivision MT11.31 km&lt;/div&gt;`)[0];\n                popup_8353a4d352804baa48d0ff1b89535306.setContent(html_7f9d423da38d7064f3caff8b6ec51d6a);\n            \n        \n\n        poly_line_b2931c0696475a250c3ed15fb9c70d13.bindPopup(popup_8353a4d352804baa48d0ff1b89535306)\n        ;\n\n        \n    \n    \n            var marker_91643838628c835bb99c6c9a91cb9172 = L.marker(\n                [34.63543, -120.62508],\n                {}\n            ).addTo(map_2c1582dde9de800f605394ce507a3bb8);\n        \n    \n            var icon_bbd7a308eff0e81dbea702195261c360 = L.AwesomeMarkers.icon(\n                {&quot;extraClasses&quot;: &quot;fa-rotate-0&quot;, &quot;icon&quot;: &quot;info-sign&quot;, &quot;iconColor&quot;: &quot;white&quot;, &quot;markerColor&quot;: &quot;red&quot;, &quot;prefix&quot;: &quot;glyphicon&quot;}\n            );\n            marker_91643838628c835bb99c6c9a91cb9172.setIcon(icon_bbd7a308eff0e81dbea702195261c360);\n        \n    \n        var popup_23a758f4bc02d3152cd752e9a0121761 = L.popup({&quot;maxWidth&quot;: &quot;100%&quot;});\n\n        \n            \n                var html_c94000f4041d6c84b5fa93253cd2580b = $(`&lt;div id=&quot;html_c94000f4041d6c84b5fa93253cd2580b&quot; style=&quot;width: 100.0%; height: 100.0%;&quot;&gt;VAFB SLC-4E&lt;/div&gt;`)[0];\n                popup_23a758f4bc02d3152cd752e9a0121761.setContent(html_c94000f4041d6c84b5fa93253cd2580b);\n            \n        \n\n        marker_91643838628c835bb99c6c9a91cb9172.bindPopup(popup_23a758f4bc02d3152cd752e9a0121761)\n        ;\n\n        \n    \n    \n            marker_91643838628c835bb99c6c9a91cb9172.bindTooltip(\n                `&lt;div&gt;\n                     click\n                 &lt;/div&gt;`,\n                {&quot;sticky&quot;: true}\n            );\n        \n    \n            var marker_0b309fae2d10318fc5bba76ed7d96e3f = L.marker(\n                [34.63543, -120.62508],\n                {}\n            ).addTo(map_2c1582dde9de800f605394ce507a3bb8);\n        \n    \n            var beautify_icon_e862ff4b4c9803e99d9b0435cb8d03a1 = new L.BeautifyIcon.icon(\n                {&quot;backgroundColor&quot;: &quot;#FFF&quot;, &quot;borderColor&quot;: &quot;#8D208B&quot;, &quot;borderWidth&quot;: 2, &quot;innerIconStyle&quot;: &quot;margin-top:0px;&quot;, &quot;isAlphaNumericIcon&quot;: true, &quot;spin&quot;: false, &quot;text&quot;: 1.0, &quot;textColor&quot;: &quot;#8D208B&quot;}\n            )\n            marker_0b309fae2d10318fc5bba76ed7d96e3f.setIcon(beautify_icon_e862ff4b4c9803e99d9b0435cb8d03a1);\n        \n    \n            marker_0b309fae2d10318fc5bba76ed7d96e3f.bindTooltip(\n                `&lt;div&gt;\n                     Agena Way 0.50km\n                 &lt;/div&gt;`,\n                {&quot;sticky&quot;: true}\n            );\n        \n    \n            var poly_line_ee08e5c2da66342ad3b1842e9387605b = L.polyline(\n                [[34.632834, -120.610746], [34.63543, -120.62508]],\n                {&quot;bubblingMouseEvents&quot;: true, &quot;color&quot;: &quot;#325931&quot;, &quot;dashArray&quot;: null, &quot;dashOffset&quot;: null, &quot;fill&quot;: false, &quot;fillColor&quot;: &quot;#325931&quot;, &quot;fillOpacity&quot;: 0.2, &quot;fillRule&quot;: &quot;evenodd&quot;, &quot;lineCap&quot;: &quot;round&quot;, &quot;lineJoin&quot;: &quot;round&quot;, &quot;noClip&quot;: false, &quot;opacity&quot;: 1.0, &quot;smoothFactor&quot;: 1.0, &quot;stroke&quot;: true, &quot;weight&quot;: 1.5}\n            ).addTo(map_2c1582dde9de800f605394ce507a3bb8);\n        \n    \n        var popup_f0d1623a28cbe7981e347f9d47254e9e = L.popup({&quot;maxWidth&quot;: &quot;100%&quot;});\n\n        \n            \n                var html_21f45dbc6e8be9c20c30e6b814da16b5 = $(`&lt;div id=&quot;html_21f45dbc6e8be9c20c30e6b814da16b5&quot; style=&quot;width: 100.0%; height: 100.0%;&quot;&gt;Agena Way0.50 km&lt;/div&gt;`)[0];\n                popup_f0d1623a28cbe7981e347f9d47254e9e.setContent(html_21f45dbc6e8be9c20c30e6b814da16b5);\n            \n        \n\n        poly_line_ee08e5c2da66342ad3b1842e9387605b.bindPopup(popup_f0d1623a28cbe7981e347f9d47254e9e)\n        ;\n\n        \n    \n&lt;/script&gt;\n&lt;/html&gt;\" style=\"position:absolute;width:100%;height:100%;left:0;top:0;border:none !important;\" allowfullscreen webkitallowfullscreen mozallowfullscreen></iframe></div></div>"
          },
          "metadata": {}
        }
      ],
      "execution_count": 31
    },
    {
      "cell_type": "code",
      "source": "",
      "metadata": {},
      "outputs": [],
      "execution_count": null
    },
    {
      "cell_type": "markdown",
      "source": "After you plot distance lines to the proximities, you can answer the following questions easily:\n\n*   Are launch sites in close proximity to railways?\n*   Are launch sites in close proximity to highways?\n*   Are launch sites in close proximity to coastline?\n*   Do launch sites keep certain distance away from cities?\n\nAlso please try to explain your findings.\n",
      "metadata": {}
    },
    {
      "cell_type": "markdown",
      "source": "# Next Steps:\n\nNow you have discovered many interesting insights related to the launch sites' location using folium, in a very interactive way. Next, you will need to build a dashboard using Ploty Dash on detailed launch records.\n",
      "metadata": {}
    },
    {
      "cell_type": "markdown",
      "source": "## Authors\n",
      "metadata": {}
    },
    {
      "cell_type": "markdown",
      "source": "[Pratiksha Verma](https://www.linkedin.com/in/pratiksha-verma-6487561b1/?utm_medium=Exinfluencer&utm_source=Exinfluencer&utm_content=000026UJ&utm_term=10006555&utm_id=NA-SkillsNetwork-Channel-SkillsNetworkCoursesIBMDS0321ENSkillsNetwork865-2022-01-01)\n",
      "metadata": {}
    },
    {
      "cell_type": "markdown",
      "source": "## Change Log\n",
      "metadata": {}
    },
    {
      "cell_type": "markdown",
      "source": "| Date (YYYY-MM-DD) | Version | Changed By      | Change Description      |\n| ----------------- | ------- | -------------   | ----------------------- |\n| 2022-11-09        | 1.0     | Pratiksha Verma | Converted initial version to Jupyterlite|\n",
      "metadata": {}
    },
    {
      "cell_type": "markdown",
      "source": "### <h3 align=\"center\"> IBM Corporation 2022. All rights reserved. <h3/>\n",
      "metadata": {}
    }
  ]
}